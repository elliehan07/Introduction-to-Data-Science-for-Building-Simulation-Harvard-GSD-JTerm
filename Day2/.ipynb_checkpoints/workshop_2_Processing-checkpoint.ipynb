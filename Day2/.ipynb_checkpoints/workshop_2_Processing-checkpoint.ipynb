{
 "cells": [
  {
   "cell_type": "markdown",
   "metadata": {},
   "source": [
    "### J-Term 2017, Harvard GSD :\n",
    "### Introduction to Data Science for Building Simulation\n",
    "***\n",
    "Instructor: Jung Min Han, elliehan07@gmail.com <br>\n",
    "Teaching Assistant: NJ Namju Lee, nj.namju@gmail.com <br>\n",
    "Date/Time: Jan 9-12/ 1:00 - 3:00 p.m. <br>\n",
    "Location: 20 Sumner/Room 1-D<br>\n",
    "***"
   ]
  },
  {
   "cell_type": "markdown",
   "metadata": {},
   "source": [
    "# predict missing values"
   ]
  },
  {
   "cell_type": "code",
   "execution_count": 1,
   "metadata": {
    "collapsed": true
   },
   "outputs": [],
   "source": [
    "# import library\n",
    "import numpy as np\n",
    "import pandas as pd\n",
    "import os"
   ]
  },
  {
   "cell_type": "markdown",
   "metadata": {},
   "source": [
    "### 1. Load data"
   ]
  },
  {
   "cell_type": "code",
   "execution_count": 2,
   "metadata": {
    "collapsed": true
   },
   "outputs": [],
   "source": [
    "# import data\n",
    "def GetPandasFromCsv(path, fileName):\n",
    "    path = os.path.join(path , fileName)\n",
    "    return pd.read_csv(path)\n"
   ]
  },
  {
   "cell_type": "code",
   "execution_count": 3,
   "metadata": {
    "collapsed": false
   },
   "outputs": [
    {
     "name": "stdout",
     "output_type": "stream",
     "text": [
      "         time  electricity-kWh    startDay      endDay       RH-%       T-C  \\\n",
      "0  2012-01-01      2800.244977  2012-01-01  2012-01-02  76.652174  7.173913   \n",
      "1  2012-01-02              NaN  2012-01-02  2012-01-03  55.958333  5.833333   \n",
      "\n",
      "     Tdew-C  pressure-mbar  solarRadiation-W/m2  windDirection  windSpeed-m/s  \\\n",
      "0  3.073913    1004.956522            95.260870     236.086957       4.118361   \n",
      "1 -2.937500     994.625000            87.333333     253.750000       5.914357   \n",
      "\n",
      "   humidityRatio-kg/kg  coolingDegrees  heatingDegrees  dehumidification  \\\n",
      "0             0.004796             0.0        7.826087               0.0   \n",
      "1             0.003415             0.0        9.166667               0.0   \n",
      "\n",
      "   occupancy  \n",
      "0        0.0  \n",
      "1        0.3  \n",
      "         time  electricity-kWh    startDay      endDay       RH-%       T-C  \\\n",
      "0  2012-01-01      2800.244977  2012-01-01  2012-01-02  76.652174  7.173913   \n",
      "1  2012-01-02      3168.974047  2012-01-02  2012-01-03  55.958333  5.833333   \n",
      "\n",
      "     Tdew-C  pressure-mbar  solarRadiation-W/m2  windDirection  windSpeed-m/s  \\\n",
      "0  3.073913    1004.956522            95.260870     236.086957       4.118361   \n",
      "1 -2.937500     994.625000            87.333333     253.750000       5.914357   \n",
      "\n",
      "   humidityRatio-kg/kg  coolingDegrees  heatingDegrees  dehumidification  \\\n",
      "0             0.004796             0.0        7.826087               0.0   \n",
      "1             0.003415             0.0        9.166667               0.0   \n",
      "\n",
      "   occupancy  \n",
      "0        0.0  \n",
      "1        0.3  \n"
     ]
    }
   ],
   "source": [
    "# fn1 =  'dailyChilledWaterWithFeatures'\n",
    "fn2 =  'dailyElectricityWithFeatures'\n",
    "# fn3 =  'dailySteamWithFeatures'\n",
    "theDir = 'data/'\n",
    "\n",
    "dTrain = GetPandasFromCsv(theDir, fn2 + \"_train.csv\")\n",
    "dTest = GetPandasFromCsv(theDir, fn2 + \"_test.csv\")\n",
    "\n",
    "index =  dTrain.columns.values\n",
    "dTrain.rename(columns={index[0]:\"time\"},inplace=True)\n",
    "dTest.rename(columns={index[0]:\"time\"},inplace=True)\n",
    "print dTrain.head(2)\n",
    "print dTest.head(2)\n"
   ]
  },
  {
   "cell_type": "code",
   "execution_count": 4,
   "metadata": {
    "collapsed": false
   },
   "outputs": [
    {
     "name": "stdout",
     "output_type": "stream",
     "text": [
      "[   0    1    2 ..., 1480 1481 1482]\n",
      "(1483L,)\n",
      "0\n",
      "----------------\n",
      "(1483L,)\n",
      "384\n"
     ]
    }
   ],
   "source": [
    "def GetCountForNullFromPandas(d):\n",
    "    return d.isnull().sum()\n",
    "\n",
    "colTest = dTest['electricity-kWh']\n",
    "colTrain = dTrain['electricity-kWh']\n",
    " \n",
    "x = dTest.index.values\n",
    "\n",
    "print x\n",
    "print colTest.shape\n",
    "print GetCountForNullFromPandas(colTest)\n",
    "print \"----------------\"\n",
    "print colTrain.shape\n",
    "print GetCountForNullFromPandas(colTrain)"
   ]
  },
  {
   "cell_type": "code",
   "execution_count": 5,
   "metadata": {
    "collapsed": false
   },
   "outputs": [
    {
     "data": {
      "text/plain": [
       "count    1483.000000\n",
       "mean     5081.858935\n",
       "std      1155.051478\n",
       "min      2223.362065\n",
       "25%      4246.928294\n",
       "50%      5092.179797\n",
       "75%      6011.419225\n",
       "max      7870.142990\n",
       "Name: electricity-kWh, dtype: float64"
      ]
     },
     "execution_count": 5,
     "metadata": {},
     "output_type": "execute_result"
    }
   ],
   "source": [
    "colTest.describe()"
   ]
  },
  {
   "cell_type": "code",
   "execution_count": 6,
   "metadata": {
    "collapsed": false
   },
   "outputs": [],
   "source": [
    "def DeepCopy(d):\n",
    "    return d.copy(deep=True)\n",
    "\n",
    "colTrainByMean = DeepCopy(colTrain)\n",
    "colTrainByMedian = DeepCopy(colTrain)\n",
    "colTrainByKNN = DeepCopy(colTrain)\n",
    "colTrainByReg = DeepCopy(colTrain)"
   ]
  },
  {
   "cell_type": "markdown",
   "metadata": {},
   "source": [
    "### filling by mean"
   ]
  },
  {
   "cell_type": "code",
   "execution_count": 7,
   "metadata": {
    "collapsed": false
   },
   "outputs": [
    {
     "data": {
      "text/plain": [
       "5067.548487987391"
      ]
     },
     "execution_count": 7,
     "metadata": {},
     "output_type": "execute_result"
    }
   ],
   "source": [
    "colTrainByMean.mean()"
   ]
  },
  {
   "cell_type": "code",
   "execution_count": 8,
   "metadata": {
    "collapsed": false
   },
   "outputs": [
    {
     "data": {
      "text/plain": [
       "count    1099.000000\n",
       "mean     5067.548488\n",
       "std      1160.582975\n",
       "min      2223.362065\n",
       "25%      4243.915374\n",
       "50%      5057.463812\n",
       "75%      6019.424523\n",
       "max      7870.142990\n",
       "Name: electricity-kWh, dtype: float64"
      ]
     },
     "execution_count": 8,
     "metadata": {},
     "output_type": "execute_result"
    }
   ],
   "source": [
    "dfnull = colTrain[colTrain.isnull()]\n",
    "dfnull_index = dfnull.index.values\n",
    "\n",
    "dfnotnull = colTrain[colTrain.notnull()]\n",
    "dfnotnull_index = dfnotnull.index.values\n",
    "\n",
    "dfnotnull.describe()"
   ]
  },
  {
   "cell_type": "code",
   "execution_count": 9,
   "metadata": {
    "collapsed": false
   },
   "outputs": [],
   "source": [
    "temp = dfnull.index.values\n",
    "\n",
    "my_test =colTest[temp]\n"
   ]
  },
  {
   "cell_type": "code",
   "execution_count": 10,
   "metadata": {
    "collapsed": false
   },
   "outputs": [
    {
     "name": "stdout",
     "output_type": "stream",
     "text": [
      "5067.54848799\n",
      "5057.46381204\n"
     ]
    }
   ],
   "source": [
    "def GetMean(dataArray):\n",
    "    return np.mean(dataArray)\n",
    "#     theSum=0.0\n",
    "#     for d in dataArray: theSum += d\n",
    "#     return theSum/len(dataArray)\n",
    "def getMedian(dataArray):\n",
    "    return np.median(dataArray)\n",
    "\n",
    "mean = GetMean(dfnotnull.tolist())\n",
    "print mean\n",
    "\n",
    "median = getMedian(dfnotnull.tolist())\n",
    "print median"
   ]
  },
  {
   "cell_type": "code",
   "execution_count": 11,
   "metadata": {
    "collapsed": false
   },
   "outputs": [],
   "source": [
    "colTrainByMean[colTrainByMean.isnull()] = mean\n",
    "colTrainByMedian[colTrainByMedian.isnull()] = median"
   ]
  },
  {
   "cell_type": "code",
   "execution_count": 12,
   "metadata": {
    "collapsed": false
   },
   "outputs": [
    {
     "data": {
      "text/plain": [
       "0    2800.244977\n",
       "1    5067.548488\n",
       "2    5194.533376\n",
       "3    5354.861935\n",
       "4    5067.548488\n",
       "Name: electricity-kWh, dtype: float64"
      ]
     },
     "execution_count": 12,
     "metadata": {},
     "output_type": "execute_result"
    }
   ],
   "source": [
    "colTrainByMean.head()"
   ]
  },
  {
   "cell_type": "code",
   "execution_count": 13,
   "metadata": {
    "collapsed": false
   },
   "outputs": [
    {
     "data": {
      "text/plain": [
       "0    2800.244977\n",
       "1    5057.463812\n",
       "2    5194.533376\n",
       "3    5354.861935\n",
       "4    5057.463812\n",
       "Name: electricity-kWh, dtype: float64"
      ]
     },
     "execution_count": 13,
     "metadata": {},
     "output_type": "execute_result"
    }
   ],
   "source": [
    "colTrainByMedian.head()"
   ]
  },
  {
   "cell_type": "code",
   "execution_count": 14,
   "metadata": {
    "collapsed": true
   },
   "outputs": [],
   "source": [
    "\n",
    "def MSE_MeanSquaredErrorLoss(fullData,targetData ): # common use \n",
    "    sum = RSS_ResidualSumofSquares(fullData,targetData)\n",
    "    return sum / len(fullData)\n",
    "\n",
    "def MSE_MeanSquaredErrorLossForCategorical(fullData,targetData ): # Categorical\n",
    "    sum = 0.0;\n",
    "    for i in range(len(fullData)):\n",
    "        if(fullData[i] != targetData[i]): sum +=1\n",
    "    return sum / len(fullData)\n",
    "\n",
    "def GetMean(dataArray):\n",
    "    return np.mean(dataArray)\n",
    "#     theSum=0.0\n",
    "#     for d in dataArray: theSum += d\n",
    "#     return theSum/len(dataArray)\n",
    "def getMedian(dataArray):\n",
    "    return np.median(dataArray)\n",
    "\n",
    "def RSS_ResidualSumofSquares(dataFull, missingFill): # residual standard error, RSE ??? -- OLS (Ordinary Least Squares) Residual Sum of Squares(RSS)\n",
    "    sumSoFar=0.0\n",
    "    for i in range(len(missingFill)):\n",
    "        sumSoFar += (dataFull[i]-missingFill[i])**2\n",
    "    return sumSoFar\n",
    "\n",
    "def TSS_TotalSumOfSquare(fullData,targetData):\n",
    "    # meanVal = targetData.mean()# for numpy\n",
    "    meanVal = GetMean(targetData)# manual\n",
    "    sumSoFar= 0.0\n",
    "    for i in range(len(targetData)):\n",
    "        # sumSoFar += (fullData.y[i]-meanVal)**2\n",
    "        sumSoFar += (fullData[i]-meanVal)**2\n",
    "    return sumSoFar\n",
    "\n",
    "def R_Squared_CoefficientOfDetermination(fullData, targetData): # this is for regression \n",
    "    RSS = RSS_ResidualSumofSquares(fullData, targetData)\n",
    "    TSS = TSS_TotalSumOfSquare(fullData, targetData)\n",
    "    return 1-(RSS/TSS)\n",
    "def R_Squared_CoefficientOfDeterminationBySKLearn(fullData, targetData):\n",
    "    return sk.metrics.r2_score(fullData, targetData)"
   ]
  },
  {
   "cell_type": "code",
   "execution_count": 15,
   "metadata": {
    "collapsed": false
   },
   "outputs": [
    {
     "data": {
      "text/plain": [
       "0.66297238510807188"
      ]
     },
     "execution_count": 15,
     "metadata": {},
     "output_type": "execute_result"
    }
   ],
   "source": [
    "R_Squared_CoefficientOfDetermination(colTrainByMean,colTest)"
   ]
  },
  {
   "cell_type": "code",
   "execution_count": 16,
   "metadata": {
    "collapsed": false
   },
   "outputs": [
    {
     "data": {
      "text/plain": [
       "0.66269080040803741"
      ]
     },
     "execution_count": 16,
     "metadata": {},
     "output_type": "execute_result"
    }
   ],
   "source": [
    "R_Squared_CoefficientOfDetermination(colTrainByMedian,colTest)"
   ]
  },
  {
   "cell_type": "code",
   "execution_count": 17,
   "metadata": {
    "collapsed": false
   },
   "outputs": [
    {
     "name": "stderr",
     "output_type": "stream",
     "text": [
      "C:\\Users\\EllieHan\\Anaconda2\\lib\\site-packages\\sklearn\\cross_validation.py:44: DeprecationWarning: This module was deprecated in version 0.18 in favor of the model_selection module into which all the refactored classes and functions are moved. Also note that the interface of the new CV iterators are different from that of this module. This module will be removed in 0.20.\n",
      "  \"This module will be removed in 0.20.\", DeprecationWarning)\n"
     ]
    }
   ],
   "source": [
    "import numpy as np\n",
    "import pandas as pd\n",
    "import random\n",
    "import sklearn as sk\n",
    "from sklearn.neighbors import KNeighborsRegressor as KNN\n",
    "from sklearn.cross_validation import train_test_split as sk_split\n",
    "from sklearn.linear_model import LinearRegression as Lin_Reg\n",
    "from statsmodels.regression.linear_model import OLS\n",
    "import time\n",
    "import matplotlib\n",
    "import matplotlib.pyplot as plt\n",
    "%matplotlib inline"
   ]
  },
  {
   "cell_type": "code",
   "execution_count": 18,
   "metadata": {
    "collapsed": false
   },
   "outputs": [
    {
     "name": "stdout",
     "output_type": "stream",
     "text": [
      "0.683826110173\n",
      "R^2 value of KNN fit, for k= 2 0.683826110173\n"
     ]
    }
   ],
   "source": [
    "#performance of sklearn implementation\n",
    "\n",
    "dfnull = colTrain[colTrain.isnull()]\n",
    "dfnull_index = dfnull.index\n",
    "#preparing data in array form\n",
    "dfnull_index = dfnull_index.values.reshape((dfnull_index.shape[0], 1))\n",
    "\n",
    "dfnotnull = colTrain[colTrain.notnull()]\n",
    "dfnotnull_index = dfnotnull.index\n",
    "#preparing data in array form\n",
    "dfnotnull_index = dfnotnull_index.values.reshape((dfnotnull_index.shape[0], 1))\n",
    "\n",
    "k = 2\n",
    "\n",
    "#split data\n",
    "x_train = dfnotnull_index\n",
    "x_test = dfnull_index\n",
    "y_train = dfnotnull.tolist()\n",
    "y_test = dfnull.tolist()\n",
    "\n",
    "#fit model, predict and evaluate\n",
    "neighbours = KNN(n_neighbors=k)\n",
    "\n",
    "neighbours.fit(x_train, y_train)\n",
    "y_pred = neighbours.predict(x_test)\n",
    "r = neighbours.score(x_test, my_test)\n",
    "print r\n",
    "\n",
    "print 'R^2 value of KNN fit, for k=', k, r"
   ]
  },
  {
   "cell_type": "code",
   "execution_count": 19,
   "metadata": {
    "collapsed": false
   },
   "outputs": [
    {
     "data": {
      "text/plain": [
       "0.66297238510807188"
      ]
     },
     "execution_count": 19,
     "metadata": {},
     "output_type": "execute_result"
    }
   ],
   "source": [
    "R_Squared_CoefficientOfDetermination(colTrainByMean,colTest)"
   ]
  },
  {
   "cell_type": "code",
   "execution_count": 20,
   "metadata": {
    "collapsed": false
   },
   "outputs": [
    {
     "name": "stdout",
     "output_type": "stream",
     "text": [
      "0.0535343257167\n"
     ]
    }
   ],
   "source": [
    "x_train = dfnotnull_index\n",
    "x_test = dfnull_index\n",
    "y_train = dfnotnull.tolist()\n",
    "y_test = dfnull.tolist()\n",
    "\n",
    "regression = Lin_Reg()\n",
    "regression.fit(x_train, y_train)\n",
    "\n",
    "#predict y-values\n",
    "predicted_y = regression.predict(x_test)\n",
    "\n",
    "#score predictions\n",
    "r = regression.score(x_test, my_test)\n",
    "print r "
   ]
  },
  {
   "cell_type": "code",
   "execution_count": 21,
   "metadata": {
    "collapsed": false
   },
   "outputs": [
    {
     "data": {
      "text/plain": [
       "0.66297238510807188"
      ]
     },
     "execution_count": 21,
     "metadata": {},
     "output_type": "execute_result"
    }
   ],
   "source": [
    "R_Squared_CoefficientOfDetermination(colTrainByMean,colTest)"
   ]
  },
  {
   "cell_type": "code",
   "execution_count": 23,
   "metadata": {
    "collapsed": true
   },
   "outputs": [],
   "source": [
    "from sklearn import svm"
   ]
  },
  {
   "cell_type": "code",
   "execution_count": 32,
   "metadata": {
    "collapsed": false
   },
   "outputs": [
    {
     "name": "stdout",
     "output_type": "stream",
     "text": [
      "<type 'list'>\n"
     ]
    },
    {
     "name": "stderr",
     "output_type": "stream",
     "text": [
      "C:\\Users\\EllieHan\\Anaconda2\\lib\\site-packages\\sklearn\\utils\\validation.py:395: DeprecationWarning: Passing 1d arrays as data is deprecated in 0.17 and will raise ValueError in 0.19. Reshape your data either using X.reshape(-1, 1) if your data has a single feature or X.reshape(1, -1) if it contains a single sample.\n",
      "  DeprecationWarning)\n"
     ]
    },
    {
     "ename": "ValueError",
     "evalue": "Found input variables with inconsistent numbers of samples: [1, 1099]",
     "output_type": "error",
     "traceback": [
      "\u001b[0;31m---------------------------------------------------------------------------\u001b[0m",
      "\u001b[0;31mValueError\u001b[0m                                Traceback (most recent call last)",
      "\u001b[0;32m<ipython-input-32-20576c063981>\u001b[0m in \u001b[0;36m<module>\u001b[0;34m()\u001b[0m\n\u001b[1;32m     16\u001b[0m \u001b[1;33m\u001b[0m\u001b[0m\n\u001b[1;32m     17\u001b[0m \u001b[0mmodel\u001b[0m \u001b[1;33m=\u001b[0m \u001b[0msvm\u001b[0m\u001b[1;33m.\u001b[0m\u001b[0mSVC\u001b[0m\u001b[1;33m(\u001b[0m\u001b[0mC\u001b[0m\u001b[1;33m=\u001b[0m\u001b[1;36m1000\u001b[0m\u001b[1;33m)\u001b[0m\u001b[1;33m\u001b[0m\u001b[0m\n\u001b[0;32m---> 18\u001b[0;31m \u001b[0mmodel\u001b[0m\u001b[1;33m.\u001b[0m\u001b[0mfit\u001b[0m\u001b[1;33m(\u001b[0m\u001b[0mx_train\u001b[0m\u001b[1;33m,\u001b[0m \u001b[0my_train\u001b[0m\u001b[1;33m)\u001b[0m\u001b[1;33m\u001b[0m\u001b[0m\n\u001b[0m\u001b[1;32m     19\u001b[0m \u001b[1;33m\u001b[0m\u001b[0m\n\u001b[1;32m     20\u001b[0m \u001b[1;31m# Train and test error\u001b[0m\u001b[1;33m\u001b[0m\u001b[1;33m\u001b[0m\u001b[0m\n",
      "\u001b[0;32mC:\\Users\\EllieHan\\Anaconda2\\lib\\site-packages\\sklearn\\svm\\base.pyc\u001b[0m in \u001b[0;36mfit\u001b[0;34m(self, X, y, sample_weight)\u001b[0m\n\u001b[1;32m    149\u001b[0m         \u001b[0mself\u001b[0m\u001b[1;33m.\u001b[0m\u001b[0m_sparse\u001b[0m \u001b[1;33m=\u001b[0m \u001b[0msparse\u001b[0m \u001b[1;32mand\u001b[0m \u001b[1;32mnot\u001b[0m \u001b[0mcallable\u001b[0m\u001b[1;33m(\u001b[0m\u001b[0mself\u001b[0m\u001b[1;33m.\u001b[0m\u001b[0mkernel\u001b[0m\u001b[1;33m)\u001b[0m\u001b[1;33m\u001b[0m\u001b[0m\n\u001b[1;32m    150\u001b[0m \u001b[1;33m\u001b[0m\u001b[0m\n\u001b[0;32m--> 151\u001b[0;31m         \u001b[0mX\u001b[0m\u001b[1;33m,\u001b[0m \u001b[0my\u001b[0m \u001b[1;33m=\u001b[0m \u001b[0mcheck_X_y\u001b[0m\u001b[1;33m(\u001b[0m\u001b[0mX\u001b[0m\u001b[1;33m,\u001b[0m \u001b[0my\u001b[0m\u001b[1;33m,\u001b[0m \u001b[0mdtype\u001b[0m\u001b[1;33m=\u001b[0m\u001b[0mnp\u001b[0m\u001b[1;33m.\u001b[0m\u001b[0mfloat64\u001b[0m\u001b[1;33m,\u001b[0m \u001b[0morder\u001b[0m\u001b[1;33m=\u001b[0m\u001b[1;34m'C'\u001b[0m\u001b[1;33m,\u001b[0m \u001b[0maccept_sparse\u001b[0m\u001b[1;33m=\u001b[0m\u001b[1;34m'csr'\u001b[0m\u001b[1;33m)\u001b[0m\u001b[1;33m\u001b[0m\u001b[0m\n\u001b[0m\u001b[1;32m    152\u001b[0m         \u001b[0my\u001b[0m \u001b[1;33m=\u001b[0m \u001b[0mself\u001b[0m\u001b[1;33m.\u001b[0m\u001b[0m_validate_targets\u001b[0m\u001b[1;33m(\u001b[0m\u001b[0my\u001b[0m\u001b[1;33m)\u001b[0m\u001b[1;33m\u001b[0m\u001b[0m\n\u001b[1;32m    153\u001b[0m \u001b[1;33m\u001b[0m\u001b[0m\n",
      "\u001b[0;32mC:\\Users\\EllieHan\\Anaconda2\\lib\\site-packages\\sklearn\\utils\\validation.pyc\u001b[0m in \u001b[0;36mcheck_X_y\u001b[0;34m(X, y, accept_sparse, dtype, order, copy, force_all_finite, ensure_2d, allow_nd, multi_output, ensure_min_samples, ensure_min_features, y_numeric, warn_on_dtype, estimator)\u001b[0m\n\u001b[1;32m    529\u001b[0m         \u001b[0my\u001b[0m \u001b[1;33m=\u001b[0m \u001b[0my\u001b[0m\u001b[1;33m.\u001b[0m\u001b[0mastype\u001b[0m\u001b[1;33m(\u001b[0m\u001b[0mnp\u001b[0m\u001b[1;33m.\u001b[0m\u001b[0mfloat64\u001b[0m\u001b[1;33m)\u001b[0m\u001b[1;33m\u001b[0m\u001b[0m\n\u001b[1;32m    530\u001b[0m \u001b[1;33m\u001b[0m\u001b[0m\n\u001b[0;32m--> 531\u001b[0;31m     \u001b[0mcheck_consistent_length\u001b[0m\u001b[1;33m(\u001b[0m\u001b[0mX\u001b[0m\u001b[1;33m,\u001b[0m \u001b[0my\u001b[0m\u001b[1;33m)\u001b[0m\u001b[1;33m\u001b[0m\u001b[0m\n\u001b[0m\u001b[1;32m    532\u001b[0m \u001b[1;33m\u001b[0m\u001b[0m\n\u001b[1;32m    533\u001b[0m     \u001b[1;32mreturn\u001b[0m \u001b[0mX\u001b[0m\u001b[1;33m,\u001b[0m \u001b[0my\u001b[0m\u001b[1;33m\u001b[0m\u001b[0m\n",
      "\u001b[0;32mC:\\Users\\EllieHan\\Anaconda2\\lib\\site-packages\\sklearn\\utils\\validation.pyc\u001b[0m in \u001b[0;36mcheck_consistent_length\u001b[0;34m(*arrays)\u001b[0m\n\u001b[1;32m    179\u001b[0m     \u001b[1;32mif\u001b[0m \u001b[0mlen\u001b[0m\u001b[1;33m(\u001b[0m\u001b[0muniques\u001b[0m\u001b[1;33m)\u001b[0m \u001b[1;33m>\u001b[0m \u001b[1;36m1\u001b[0m\u001b[1;33m:\u001b[0m\u001b[1;33m\u001b[0m\u001b[0m\n\u001b[1;32m    180\u001b[0m         raise ValueError(\"Found input variables with inconsistent numbers of\"\n\u001b[0;32m--> 181\u001b[0;31m                          \" samples: %r\" % [int(l) for l in lengths])\n\u001b[0m\u001b[1;32m    182\u001b[0m \u001b[1;33m\u001b[0m\u001b[0m\n\u001b[1;32m    183\u001b[0m \u001b[1;33m\u001b[0m\u001b[0m\n",
      "\u001b[0;31mValueError\u001b[0m: Found input variables with inconsistent numbers of samples: [1, 1099]"
     ]
    }
   ],
   "source": [
    "dfnull = colTrain[colTrain.isnull()]\n",
    "dfnull_index = dfnull.index\n",
    "#preparing data in array form\n",
    "# dfnull_index = dfnull_index.values.reshape((dfnull_index.shape[0], 1))\n",
    "\n",
    "dfnotnull = colTrain[colTrain.notnull()]\n",
    "dfnotnull_index = dfnotnull.index\n",
    "#preparing data in array form\n",
    "# dfnotnull_index = dfnotnull_index.values.reshape((dfnotnull_index.shape[0], 1))\n",
    "\n",
    "x_train = dfnotnull_index.tolist()\n",
    "x_test = dfnull_index.tolist()\n",
    "print type(x_train)\n",
    "y_train = dfnotnull.tolist()\n",
    "y_test = dfnull.tolist()\n",
    "\n",
    "model = svm.SVC(C=1000)\n",
    "model.fit(x_train, y_train)\n",
    "\n",
    "# Train and test error\n",
    "tr_acc = model.score(x_train, y_train)\n",
    "ts_acc = model.score(x_test, my_test)\n",
    "\n",
    "print tr_acc,ts_acc"
   ]
  },
  {
   "cell_type": "code",
   "execution_count": null,
   "metadata": {
    "collapsed": true
   },
   "outputs": [],
   "source": []
  }
 ],
 "metadata": {
  "kernelspec": {
   "display_name": "Python 2",
   "language": "python",
   "name": "python2"
  },
  "language_info": {
   "codemirror_mode": {
    "name": "ipython",
    "version": 2
   },
   "file_extension": ".py",
   "mimetype": "text/x-python",
   "name": "python",
   "nbconvert_exporter": "python",
   "pygments_lexer": "ipython2",
   "version": "2.7.11"
  }
 },
 "nbformat": 4,
 "nbformat_minor": 1
}
