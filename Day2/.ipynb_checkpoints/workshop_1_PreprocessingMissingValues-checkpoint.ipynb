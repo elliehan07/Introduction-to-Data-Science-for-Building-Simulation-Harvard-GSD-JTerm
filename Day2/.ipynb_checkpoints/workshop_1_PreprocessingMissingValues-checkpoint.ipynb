{
 "cells": [
  {
   "cell_type": "markdown",
   "metadata": {},
   "source": [
    "### J-Term 2017, Harvard GSD :\n",
    "### Introduction to Data Science for Building Simulation\n",
    "***\n",
    "Instructor: Jung Min Han, elliehan07@gmail.com <br>\n",
    "Teaching Assistant: NJ Namju Lee, nj.namju@gmail.com <br>\n",
    "Date/Time: Jan 9-12/ 1:00 - 3:00 p.m. <br>\n",
    "Location: 20 Sumner/Room 1-D<br>\n",
    "***"
   ]
  },
  {
   "cell_type": "markdown",
   "metadata": {},
   "source": [
    "# missing values"
   ]
  },
  {
   "cell_type": "code",
   "execution_count": 24,
   "metadata": {
    "collapsed": true
   },
   "outputs": [],
   "source": [
    "# import library\n",
    "import numpy as np\n",
    "import pandas as pd\n",
    "import os"
   ]
  },
  {
   "cell_type": "code",
   "execution_count": 25,
   "metadata": {
    "collapsed": true
   },
   "outputs": [],
   "source": [
    "# import data\n",
    "def GetPandasFromExcel(path, fileName):\n",
    "    path = os.path.join(path , fileName)\n",
    "    return pd.read_excel(path) # pip install xlrd needed\n"
   ]
  },
  {
   "cell_type": "code",
   "execution_count": 26,
   "metadata": {
    "collapsed": false
   },
   "outputs": [
    {
     "name": "stdout",
     "output_type": "stream",
     "text": [
      "            chilledWater-TonDays   startDay     endDay       RH-%       T-C  \\\n",
      "2012-01-01              0.961857 2012-01-01 2012-01-02  76.652174  7.173913   \n",
      "2012-01-02              0.981725 2012-01-02 2012-01-03  55.958333  5.833333   \n",
      "\n",
      "              Tdew-C  pressure-mbar  solarRadiation-W/m2  windDirection  \\\n",
      "2012-01-01  3.073913    1004.956522            95.260870     236.086957   \n",
      "2012-01-02 -2.937500     994.625000            87.333333     253.750000   \n",
      "\n",
      "            windSpeed-m/s  humidityRatio-kg/kg  coolingDegrees  \\\n",
      "2012-01-01       4.118361             0.004796             0.0   \n",
      "2012-01-02       5.914357             0.003415             0.0   \n",
      "\n",
      "            heatingDegrees  dehumidification  occupancy  \n",
      "2012-01-01        7.826087               0.0        0.0  \n",
      "2012-01-02        9.166667               0.0        0.3  \n",
      "            electricity-kWh   startDay     endDay       RH-%       T-C  \\\n",
      "2012-01-01      2800.244977 2012-01-01 2012-01-02  76.652174  7.173913   \n",
      "2012-01-02      3168.974047 2012-01-02 2012-01-03  55.958333  5.833333   \n",
      "\n",
      "              Tdew-C  pressure-mbar  solarRadiation-W/m2  windDirection  \\\n",
      "2012-01-01  3.073913    1004.956522            95.260870     236.086957   \n",
      "2012-01-02 -2.937500     994.625000            87.333333     253.750000   \n",
      "\n",
      "            windSpeed-m/s  humidityRatio-kg/kg  coolingDegrees  \\\n",
      "2012-01-01       4.118361             0.004796             0.0   \n",
      "2012-01-02       5.914357             0.003415             0.0   \n",
      "\n",
      "            heatingDegrees  dehumidification  occupancy  \n",
      "2012-01-01        7.826087               0.0        0.0  \n",
      "2012-01-02        9.166667               0.0        0.3  \n",
      "               steam-LBS   startDay     endDay       RH-%       T-C    Tdew-C  \\\n",
      "2012-01-01  17256.468099 2012-01-01 2012-01-02  76.652174  7.173913  3.073913   \n",
      "2012-01-02  17078.440755 2012-01-02 2012-01-03  55.958333  5.833333 -2.937500   \n",
      "\n",
      "            pressure-mbar  solarRadiation-W/m2  windDirection  windSpeed-m/s  \\\n",
      "2012-01-01    1004.956522            95.260870     236.086957       4.118361   \n",
      "2012-01-02     994.625000            87.333333     253.750000       5.914357   \n",
      "\n",
      "            humidityRatio-kg/kg  coolingDegrees  heatingDegrees  \\\n",
      "2012-01-01             0.004796             0.0        7.826087   \n",
      "2012-01-02             0.003415             0.0        9.166667   \n",
      "\n",
      "            dehumidification  occupancy  \n",
      "2012-01-01               0.0        0.0  \n",
      "2012-01-02               0.0        0.3  \n"
     ]
    }
   ],
   "source": [
    "fn1 =  'dailyChilledWaterWithFeatures.xlsx'\n",
    "fn2 =  'dailyElectricityWithFeatures.xlsx'\n",
    "fn3 =  'dailySteamWithFeatures.xlsx'\n",
    "theDir = 'data/'\n",
    "d1 = GetPandasFromExcel(theDir, fn1)\n",
    "d2 = GetPandasFromExcel(theDir, fn2)\n",
    "d3 = GetPandasFromExcel(theDir, fn3)\n",
    "print d1.head(2)\n",
    "print d2.head(2)\n",
    "print d3.head(2)"
   ]
  },
  {
   "cell_type": "code",
   "execution_count": 27,
   "metadata": {
    "collapsed": false
   },
   "outputs": [
    {
     "name": "stdout",
     "output_type": "stream",
     "text": [
      "chilledWater-TonDays\n",
      "electricity-kWh\n",
      "steam-LBS\n"
     ]
    }
   ],
   "source": [
    "# get index string\n",
    "index1 = d1.columns.values[0]\n",
    "index2 = d2.columns.values[0]\n",
    "index3 = d3.columns.values[0]\n",
    "print index1\n",
    "print index2\n",
    "print index3"
   ]
  },
  {
   "cell_type": "code",
   "execution_count": 28,
   "metadata": {
    "collapsed": false
   },
   "outputs": [
    {
     "name": "stdout",
     "output_type": "stream",
     "text": [
      "2012-01-01      0.961857\n",
      "2012-01-02      0.981725\n",
      "2012-01-03      1.003672\n",
      "2012-01-04      1.483192\n",
      "2012-01-05      3.465091\n",
      "2012-01-06      2.850017\n",
      "2012-01-07      1.233654\n",
      "2012-01-08      1.819965\n",
      "2012-01-09      1.755790\n",
      "2012-01-10      2.031341\n",
      "2012-01-11      2.040937\n",
      "2012-01-12      1.598127\n",
      "2012-01-13      1.734152\n",
      "2012-01-14      2.102609\n",
      "2012-01-15      1.956227\n",
      "2012-01-16      2.022603\n",
      "2012-01-17      1.505160\n",
      "2012-01-18      1.063769\n",
      "2012-01-19      1.417286\n",
      "2012-01-20      1.239108\n",
      "2012-01-21      0.758384\n",
      "2012-01-22      0.794660\n",
      "2012-01-23      1.326296\n",
      "2012-01-24      2.118290\n",
      "2012-01-25      2.094744\n",
      "2012-01-26      1.758940\n",
      "2012-01-27      2.014697\n",
      "2012-01-28      1.318782\n",
      "2012-01-29      1.423206\n",
      "2012-01-30      1.339141\n",
      "                 ...    \n",
      "2016-05-31     78.007511\n",
      "2016-06-01     50.980154\n",
      "2016-06-02     27.942501\n",
      "2016-06-03     38.443786\n",
      "2016-06-04     28.622456\n",
      "2016-06-05     27.135767\n",
      "2016-06-06     65.434352\n",
      "2016-06-07     65.886739\n",
      "2016-06-08     42.143541\n",
      "2016-06-09     24.463169\n",
      "2016-06-10     36.140849\n",
      "2016-06-11     22.844027\n",
      "2016-06-12     36.790862\n",
      "2016-06-13     40.971896\n",
      "2016-06-14     48.921865\n",
      "2016-06-15     80.061713\n",
      "2016-06-16     80.941910\n",
      "2016-06-17     76.248268\n",
      "2016-06-18     51.554692\n",
      "2016-06-19     58.486120\n",
      "2016-06-20    106.932800\n",
      "2016-06-21     94.985846\n",
      "2016-06-22     69.553653\n",
      "2016-06-23     79.287915\n",
      "2016-06-24     73.696395\n",
      "2016-06-25     54.501746\n",
      "2016-06-26     71.244681\n",
      "2016-06-27    107.315059\n",
      "2016-06-28     98.623285\n",
      "2016-06-29    110.073533\n",
      "Name: chilledWater-TonDays, dtype: float64\n",
      "2012-01-01    2800.244977\n",
      "2012-01-02    3168.974047\n",
      "2012-01-03    5194.533376\n",
      "2012-01-04    5354.861935\n",
      "2012-01-05    5496.223993\n",
      "2012-01-06    5414.499703\n",
      "2012-01-07    4138.989708\n",
      "2012-01-08    4301.957494\n",
      "2012-01-09    5626.493403\n",
      "2012-01-10    5370.202795\n",
      "2012-01-11    5411.600996\n",
      "2012-01-12    5518.026707\n",
      "2012-01-13    5313.596132\n",
      "2012-01-14    3881.154390\n",
      "2012-01-15    3975.859691\n",
      "2012-01-16    5125.751809\n",
      "2012-01-17    5722.366925\n",
      "2012-01-18    5952.708590\n",
      "2012-01-19    6234.768844\n",
      "2012-01-20    5862.304000\n",
      "2012-01-21    4167.754841\n",
      "2012-01-22    4086.755643\n",
      "2012-01-23    6133.595130\n",
      "2012-01-24    6184.188663\n",
      "2012-01-25    6313.664206\n",
      "2012-01-26    6066.265461\n",
      "2012-01-27    5893.169276\n",
      "2012-01-28    4156.091295\n",
      "2012-01-29    4626.334541\n",
      "2012-01-30    6501.386374\n",
      "                 ...     \n",
      "2016-05-29    2605.377014\n",
      "2016-05-30    2830.369765\n",
      "2016-05-31    3755.996172\n",
      "2016-06-01    3794.725552\n",
      "2016-06-02    3730.267677\n",
      "2016-06-03    3740.988858\n",
      "2016-06-04    2976.616785\n",
      "2016-06-05    2857.890759\n",
      "2016-06-06    3913.468330\n",
      "2016-06-07    3861.777873\n",
      "2016-06-08    3772.264136\n",
      "2016-06-09    3679.492967\n",
      "2016-06-10    3644.134176\n",
      "2016-06-11    2725.866310\n",
      "2016-06-12    2887.256671\n",
      "2016-06-13    3882.721691\n",
      "2016-06-14    3968.637523\n",
      "2016-06-15    3927.890641\n",
      "2016-06-17    3978.619615\n",
      "2016-06-18    2893.655027\n",
      "2016-06-19    2795.746572\n",
      "2016-06-20    4150.704040\n",
      "2016-06-21    4293.514215\n",
      "2016-06-22    3929.123155\n",
      "2016-06-23    4139.362777\n",
      "2016-06-24    4112.517452\n",
      "2016-06-25    3040.412167\n",
      "2016-06-26    2785.975068\n",
      "2016-06-27    4109.728509\n",
      "2016-06-28    4066.366329\n",
      "Name: electricity-kWh, dtype: float64\n",
      "2012-01-01    17256.468099\n",
      "2012-01-02    17078.440755\n",
      "2012-01-03    59997.969401\n",
      "2012-01-04    56104.878906\n",
      "2012-01-05    45231.708984\n",
      "2012-01-06    41182.952474\n",
      "2012-01-07    24510.393880\n",
      "2012-01-08    31754.596354\n",
      "2012-01-09    42684.648438\n",
      "2012-01-10    33138.359375\n",
      "2012-01-11    34495.289714\n",
      "2012-01-12    35106.012370\n",
      "2012-01-13    29408.710938\n",
      "2012-01-14    30238.011882\n",
      "2012-01-15    43558.016764\n",
      "2012-01-16    52867.265625\n",
      "2012-01-17    37525.107422\n",
      "2012-01-18    42445.322266\n",
      "2012-01-19    52146.328125\n",
      "2012-01-20    44846.521267\n",
      "2012-01-21    46588.955621\n",
      "2012-01-22    40979.390299\n",
      "2012-01-23    35732.071289\n",
      "2012-01-24    23362.709961\n",
      "2012-01-25    32435.660807\n",
      "2012-01-26    34713.248047\n",
      "2012-01-27    32665.996745\n",
      "2012-01-28    21102.657878\n",
      "2012-01-29    30107.602539\n",
      "2012-01-30    40511.435547\n",
      "                  ...     \n",
      "2016-05-31        0.000000\n",
      "2016-06-01        0.000000\n",
      "2016-06-02        0.000000\n",
      "2016-06-03       19.531250\n",
      "2016-06-04        0.000000\n",
      "2016-06-05        0.000000\n",
      "2016-06-06        0.000000\n",
      "2016-06-07       20.312500\n",
      "2016-06-08        0.000000\n",
      "2016-06-09        0.000000\n",
      "2016-06-10       19.531250\n",
      "2016-06-11        0.000000\n",
      "2016-06-12        0.000000\n",
      "2016-06-13       20.312500\n",
      "2016-06-14        0.000000\n",
      "2016-06-15        0.000000\n",
      "2016-06-16       20.312500\n",
      "2016-06-17        0.000000\n",
      "2016-06-18       19.531250\n",
      "2016-06-19        0.000000\n",
      "2016-06-20        0.000000\n",
      "2016-06-21        0.000000\n",
      "2016-06-22       20.312500\n",
      "2016-06-23        0.000000\n",
      "2016-06-24        0.000000\n",
      "2016-06-25        0.000000\n",
      "2016-06-26        0.000000\n",
      "2016-06-27       19.531250\n",
      "2016-06-28        0.000000\n",
      "2016-06-29        0.000000\n",
      "Name: steam-LBS, dtype: float64\n"
     ]
    }
   ],
   "source": [
    "# get the column\n",
    "c1 = d1[index1] #['chilledWater-']\n",
    "c2 = d2[index2] #['electricity-kWh']\n",
    "c3 = d3[index3] #['steam-LBS']\n",
    "print c1\n",
    "print c2\n",
    "print c3"
   ]
  },
  {
   "cell_type": "code",
   "execution_count": 29,
   "metadata": {
    "collapsed": false
   },
   "outputs": [],
   "source": [
    "def InsertNoneByRandom(data, percent): # 0.7\n",
    "    # percent = 1.0 - percent\n",
    "    newDF = data.copy(deep=True)\n",
    "    dataLength = len(data)\n",
    "    rndIndex  = np.random.choice(dataLength,int(dataLength * percent) )\n",
    "    newDF.iloc[rndIndex] = np.nan# 'null'\n",
    "    print \"The total length of old data:\", dataLength\n",
    "    print \"The total length of new data:\", newDF.count() \n",
    "    print \"the length of None in the new data:\", newDF.isnull().sum(),\"(\",percent,\"%)\"\n",
    "    return newDF"
   ]
  },
  {
   "cell_type": "code",
   "execution_count": 30,
   "metadata": {
    "collapsed": false
   },
   "outputs": [
    {
     "name": "stdout",
     "output_type": "stream",
     "text": [
      "The total length of old data: 1559\n",
      "The total length of new data: 1159\n",
      "the length of None in the new data: 400 ( 0.3 %)\n",
      "-----------------------------\n",
      "The total length of old data: 1483\n",
      "The total length of new data: 1099\n",
      "the length of None in the new data: 384 ( 0.3 %)\n",
      "-----------------------------\n",
      "The total length of old data: 1560\n",
      "The total length of new data: 1144\n",
      "the length of None in the new data: 416 ( 0.3 %)\n"
     ]
    }
   ],
   "source": [
    "\n",
    "c1Train = InsertNoneByRandom(c1, 0.3)\n",
    "print \"-----------------------------\"\n",
    "c2Train = InsertNoneByRandom(c2, 0.3)\n",
    "print \"-----------------------------\"\n",
    "c3Train = InsertNoneByRandom(c3, 0.3)\n"
   ]
  },
  {
   "cell_type": "code",
   "execution_count": 31,
   "metadata": {
    "collapsed": false
   },
   "outputs": [
    {
     "name": "stdout",
     "output_type": "stream",
     "text": [
      "2012-01-01    0.961857\n",
      "2012-01-02    0.981725\n",
      "2012-01-03         NaN\n",
      "2012-01-04    1.483192\n",
      "2012-01-05    3.465091\n",
      "2012-01-06    2.850017\n",
      "2012-01-07    1.233654\n",
      "2012-01-08         NaN\n",
      "2012-01-09    1.755790\n",
      "2012-01-10    2.031341\n",
      "Name: chilledWater-TonDays, dtype: float64\n",
      "2012-01-01    2800.244977\n",
      "2012-01-02            NaN\n",
      "2012-01-03    5194.533376\n",
      "2012-01-04    5354.861935\n",
      "2012-01-05            NaN\n",
      "2012-01-06    5414.499703\n",
      "2012-01-07    4138.989708\n",
      "2012-01-08    4301.957494\n",
      "2012-01-09            NaN\n",
      "2012-01-10    5370.202795\n",
      "Name: electricity-kWh, dtype: float64\n",
      "2012-01-01    17256.468099\n",
      "2012-01-02             NaN\n",
      "2012-01-03             NaN\n",
      "2012-01-04             NaN\n",
      "2012-01-05    45231.708984\n",
      "2012-01-06    41182.952474\n",
      "2012-01-07             NaN\n",
      "2012-01-08    31754.596354\n",
      "2012-01-09             NaN\n",
      "2012-01-10             NaN\n",
      "Name: steam-LBS, dtype: float64\n"
     ]
    }
   ],
   "source": [
    "print c1Train.head(10)\n",
    "print c2Train.head(10)\n",
    "print c3Train.head(10)"
   ]
  },
  {
   "cell_type": "code",
   "execution_count": 32,
   "metadata": {
    "collapsed": false
   },
   "outputs": [],
   "source": [
    "# sve dat for test\n",
    "fn1 =  'dailyChilledWaterWithFeatures.xlsx'\n",
    "fn2 =  'dailyElectricityWithFeatures.xlsx'\n",
    "fn3 =  'dailySteamWithFeatures.xlsx'\n",
    "\n",
    "d1.to_csv(\"data/\" + fn1[:-5] + \"_test.\" + \"csv\", header=True)\n",
    "d2.to_csv(\"data/\" + fn2[:-5] + \"_test.\" + \"csv\", header=True)\n",
    "d3.to_csv(\"data/\" + fn3[:-5] + \"_test.\" + \"csv\", header=True)"
   ]
  },
  {
   "cell_type": "code",
   "execution_count": 33,
   "metadata": {
    "collapsed": true
   },
   "outputs": [],
   "source": [
    "# save data for train\n",
    "d1[index1] = c1Train#['chilledWater-']\n",
    "d2[index2] = c2Train#['electricity-kWh']\n",
    "d3[index3] = c3Train#['steam-LBS']\n",
    "\n",
    "d1.to_csv(\"data/\" + fn1[:-5] + \"_train.\" + \"csv\", header=True)\n",
    "d2.to_csv(\"data/\" + fn2[:-5] + \"_train.\" + \"csv\", header=True)\n",
    "d3.to_csv(\"data/\" + fn3[:-5] + \"_train.\" + \"csv\", header=True)"
   ]
  },
  {
   "cell_type": "code",
   "execution_count": null,
   "metadata": {
    "collapsed": true
   },
   "outputs": [],
   "source": []
  }
 ],
 "metadata": {
  "kernelspec": {
   "display_name": "Python [default]",
   "language": "python",
   "name": "python2"
  },
  "language_info": {
   "codemirror_mode": {
    "name": "ipython",
    "version": 2
   },
   "file_extension": ".py",
   "mimetype": "text/x-python",
   "name": "python",
   "nbconvert_exporter": "python",
   "pygments_lexer": "ipython2",
   "version": "2.7.12"
  }
 },
 "nbformat": 4,
 "nbformat_minor": 1
}
