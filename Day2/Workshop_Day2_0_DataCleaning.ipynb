{
 "cells": [
  {
   "cell_type": "markdown",
   "metadata": {},
   "source": [
    "### J-Term 2017, Harvard GSD :\n",
    "### Introduction to Data Science for Building Simulation\n",
    "***\n",
    "Instructor: Jung Min Han, elliehan07@gmail.com <br>\n",
    "Teaching Assistant: NJ Namju Lee, nj.namju@gmail.com <br>\n",
    "Date/Time: Jan 9-12/ 1:00 - 3:00 p.m. <br>\n",
    "Location: 20 Sumner/Room 1-D<br>\n",
    "***"
   ]
  },
  {
   "cell_type": "code",
   "execution_count": 1,
   "metadata": {
    "collapsed": false
   },
   "outputs": [
    {
     "name": "stdout",
     "output_type": "stream",
     "text": [
      "0.18.1\n"
     ]
    }
   ],
   "source": [
    "import numpy as np\n",
    "import pandas as pd\n",
    "import scipy as sp\n",
    "from scipy.stats import mode\n",
    "from sklearn import linear_model\n",
    "import matplotlib\n",
    "import matplotlib.pyplot as plt\n",
    "from sklearn import discriminant_analysis\n",
    "from sklearn.decomposition import PCA\n",
    "from sklearn import preprocessing\n",
    "from sklearn.neighbors import KNeighborsRegressor as KNN\n",
    "%matplotlib inline\n",
    "\n",
    "import pandas as pd\n",
    "import numpy as np\n",
    "import os, random\n",
    "import sklearn\n",
    "print sklearn.__version__"
   ]
  },
  {
   "cell_type": "markdown",
   "metadata": {},
   "source": [
    "# Getting Data #"
   ]
  },
  {
   "cell_type": "code",
   "execution_count": 2,
   "metadata": {
    "collapsed": true
   },
   "outputs": [],
   "source": [
    "def GetPandasFromFileCSV(path):\n",
    "    return pd.read_csv(path, delimiter=',')\n",
    "\n",
    "def GetPandasFromFile(path, theSkipRow):\n",
    "    return pd.read_csv(path, skiprows= theSkipRow , header=None)"
   ]
  },
  {
   "cell_type": "code",
   "execution_count": 3,
   "metadata": {
    "collapsed": false
   },
   "outputs": [
    {
     "name": "stdout",
     "output_type": "stream",
     "text": [
      "       pixelPlant  pixelPole  pixelLake  pixelRoad  pixelGrass  pixelWall  \\\n",
      "0             0.0      0.000     60.990      2.671         0.0      2.116   \n",
      "1             0.0      0.004     34.120      0.217         0.0      4.409   \n",
      "2             0.0      0.000      0.000      0.000         0.0      0.000   \n",
      "3             0.0      0.000     37.650      1.242         0.0      0.694   \n",
      "4             0.0      0.000     37.650      1.242         0.0      0.694   \n",
      "5             0.0      0.000     37.650      1.242         0.0      0.694   \n",
      "6             0.0      0.000     37.650      1.242         0.0      0.694   \n",
      "7             0.0      0.000     43.300      3.583         0.0      2.257   \n",
      "8             0.0      0.000     37.650      1.242         0.0      0.694   \n",
      "9             0.0      0.018     23.850      7.066         0.0      1.619   \n",
      "10            0.0      0.018     23.850      7.066         0.0      1.619   \n",
      "11            0.0      0.018     23.850      7.066         0.0      1.619   \n",
      "12            0.0      0.000     60.990      2.671         0.0      2.116   \n",
      "13            0.0      0.005     11.290      5.070         0.0      0.000   \n",
      "14            0.0      0.004     34.120      0.217         0.0      4.409   \n",
      "15            0.0      0.018     23.850      7.066         0.0      1.619   \n",
      "16            0.0      0.000      0.000      0.000         0.0      0.000   \n",
      "17            0.0      0.004     34.120      0.217         0.0      4.409   \n",
      "18            0.0      0.000     37.650      1.242         0.0      0.694   \n",
      "19            0.0      0.000     37.650      1.242         0.0      0.694   \n",
      "20            0.0      0.366      0.900      0.988         0.0      0.000   \n",
      "21            0.0      0.004     34.120      0.217         0.0      4.409   \n",
      "22            0.0      0.000     43.300      3.583         0.0      2.257   \n",
      "23            0.0      0.000     60.990      2.671         0.0      2.116   \n",
      "24            0.0      0.035     50.870      1.745         0.0      0.514   \n",
      "25            0.0      0.004     34.120      0.217         0.0      4.409   \n",
      "26            0.0      0.000     78.580      2.886         0.0      1.597   \n",
      "27            0.0      0.000     78.580      2.886         0.0      1.597   \n",
      "28            0.0      0.035     50.870      1.745         0.0      0.514   \n",
      "29            0.0      0.000      0.000      0.000         0.0      0.000   \n",
      "...           ...        ...        ...        ...         ...        ...   \n",
      "13019         0.0      0.000      0.183      0.000         0.0      0.001   \n",
      "13020         0.0      0.000      0.183      0.000         0.0      0.001   \n",
      "13021         0.0      0.000      0.183      0.000         0.0      0.001   \n",
      "13022         0.0      0.000      0.000      0.000         0.0      0.000   \n",
      "13023         0.0      0.000      0.183      0.000         0.0      0.001   \n",
      "13024         0.0      0.000      0.183      0.000         0.0      0.001   \n",
      "13025         0.0      0.000      0.183      0.000         0.0      0.001   \n",
      "13026         0.0      0.000      0.183      0.000         0.0      0.001   \n",
      "13027         0.0      0.000      0.000      0.000         0.0      0.000   \n",
      "13028         0.0      0.000      0.183      0.000         0.0      0.001   \n",
      "13029         0.0      0.000      0.183      0.000         0.0      0.001   \n",
      "13030         0.0      0.000      0.183      0.000         0.0      0.001   \n",
      "13031         0.0      0.000      0.183      0.000         0.0      0.001   \n",
      "13032         0.0      0.000      0.183      0.000         0.0      0.001   \n",
      "13033         0.0      0.000      0.183      0.000         0.0      0.001   \n",
      "13034         0.0      0.000      0.183      0.000         0.0      0.001   \n",
      "13035         0.0      0.000      0.183      0.000         0.0      0.001   \n",
      "13036         0.0      0.000      0.183      0.000         0.0      0.001   \n",
      "13037         0.0      0.000      0.183      0.000         0.0      0.001   \n",
      "13038         0.0      0.000      0.183      0.000         0.0      0.001   \n",
      "13039         0.0      0.000      0.183      0.000         0.0      0.001   \n",
      "13040         0.0      0.000      0.183      0.000         0.0      0.001   \n",
      "13041         0.0      0.000      0.183      0.000         0.0      0.001   \n",
      "13042         0.0      0.000      0.183      0.000         0.0      0.001   \n",
      "13043         0.0      0.000      0.183      0.000         0.0      0.001   \n",
      "13044         0.0      0.000      0.183      0.000         0.0      0.001   \n",
      "13045         0.0      0.000      0.183      0.000         0.0      0.001   \n",
      "13046         0.0      0.000      0.183      0.000         0.0      0.001   \n",
      "13047         0.0      0.000      0.183      0.000         0.0      0.001   \n",
      "13048         0.0      0.000      0.183      0.000         0.0      0.001   \n",
      "\n",
      "       pixelCar  propertiesAsses  pixelSea  numCraigslistHouse   ...    \\\n",
      "0         6.639        142585895       0.0                   0   ...     \n",
      "1        22.560        173725104       0.0                   0   ...     \n",
      "2         0.000        243090896       0.0                   0   ...     \n",
      "3         0.020        216929815       0.0                   0   ...     \n",
      "4         0.020        216929815       0.0                   0   ...     \n",
      "5         0.020        216929815       0.0                   0   ...     \n",
      "6         0.020        216929815       0.0                   0   ...     \n",
      "7         4.928         18049700       0.0                   0   ...     \n",
      "8         0.020        216929815       0.0                   0   ...     \n",
      "9         0.236        120456350       0.0                   0   ...     \n",
      "10        0.236        120456350       0.0                   0   ...     \n",
      "11        0.236        120456350       0.0                   0   ...     \n",
      "12        6.639        142585895       0.0                   0   ...     \n",
      "13        0.298         84790141       0.0                   0   ...     \n",
      "14       22.560        173725104       0.0                   0   ...     \n",
      "15        0.236        120456350       0.0                   0   ...     \n",
      "16        0.000         10704800       0.0                   0   ...     \n",
      "17       22.560        173725104       0.0                   0   ...     \n",
      "18        0.020        216929815       0.0                   0   ...     \n",
      "19        0.020        216929815       0.0                   0   ...     \n",
      "20        0.028         13676500       0.0                   0   ...     \n",
      "21       22.560        173725104       0.0                   0   ...     \n",
      "22        4.928         18049700       0.0                   0   ...     \n",
      "23        6.639        142585895       0.0                   0   ...     \n",
      "24        2.510        258957439       0.0                   0   ...     \n",
      "25       22.560        173725104       0.0                   0   ...     \n",
      "26        0.069        320842900       0.0                   0   ...     \n",
      "27        0.069        320842900       0.0                   0   ...     \n",
      "28        2.510        258957439       0.0                   0   ...     \n",
      "29        0.000         10704800       0.0                   0   ...     \n",
      "...         ...              ...       ...                 ...   ...     \n",
      "13019     0.000                0       0.0                   0   ...     \n",
      "13020     0.000                0       0.0                   0   ...     \n",
      "13021     0.000                0       0.0                   0   ...     \n",
      "13022     0.000                0       0.0                   0   ...     \n",
      "13023     0.000                0       0.0                   0   ...     \n",
      "13024     0.000                0       0.0                   0   ...     \n",
      "13025     0.000                0       0.0                   0   ...     \n",
      "13026     0.000                0       0.0                   0   ...     \n",
      "13027     0.000                0       0.0                   0   ...     \n",
      "13028     0.000                0       0.0                   0   ...     \n",
      "13029     0.000                0       0.0                   0   ...     \n",
      "13030     0.000                0       0.0                   0   ...     \n",
      "13031     0.000                0       0.0                   0   ...     \n",
      "13032     0.000                0       0.0                   0   ...     \n",
      "13033     0.000                0       0.0                   0   ...     \n",
      "13034     0.000                0       0.0                   0   ...     \n",
      "13035     0.000                0       0.0                   0   ...     \n",
      "13036     0.000                0       0.0                   0   ...     \n",
      "13037     0.000                0       0.0                   0   ...     \n",
      "13038     0.000                0       0.0                   0   ...     \n",
      "13039     0.000                0       0.0                   0   ...     \n",
      "13040     0.000                0       0.0                   0   ...     \n",
      "13041     0.000                0       0.0                   0   ...     \n",
      "13042     0.000                0       0.0                   0   ...     \n",
      "13043     0.000                0       0.0                   0   ...     \n",
      "13044     0.000                0       0.0                   0   ...     \n",
      "13045     0.000                0       0.0                   0   ...     \n",
      "13046     0.000                0       0.0                   0   ...     \n",
      "13047     0.000                0       0.0                   0   ...     \n",
      "13048     0.000                0       0.0                   0   ...     \n",
      "\n",
      "       pixelSky   Latitude  Longitude                                 Address  \\\n",
      "0        18.160  42.358550 -71.064780         37 Mount Vernon #4 Boston 02108   \n",
      "1        27.810  42.356533 -71.070305                 3 Byron St Boston 02108   \n",
      "2         0.000  42.355400 -71.061510                3 Winter Pl Boston 02108   \n",
      "3        24.040  42.356464 -71.061760         6 Hamilton Pl #509 Boston 02108   \n",
      "4        24.040  42.356464 -71.061760         6 Hamilton Pl #302 Boston 02108   \n",
      "5        24.040  42.356464 -71.061760         6 Hamilton Pl #308 Boston 02108   \n",
      "6        24.040  42.356464 -71.061760         6 Hamilton Pl #407 Boston 02108   \n",
      "7        10.640  42.303974 -71.071250       130 Bowdoin St #1504 Boston 02108   \n",
      "8        24.040  42.356464 -71.061760         6 Hamilton Pl #305 Boston 02108   \n",
      "9        13.280  42.357235 -71.072180               2 Otis Pl #4 Boston 02108   \n",
      "10       13.280  42.356564 -71.071106         104 Chestnut St #2 Boston 02108   \n",
      "11       13.280  42.357010 -71.071945           49 Brimmer St #4 Boston 02108   \n",
      "12       18.160  42.357727 -71.065384                2 Joy St #5 Boston 02108   \n",
      "13       49.750  42.356823 -71.067986               52 Beacon St Boston 02108   \n",
      "14       27.810  42.356266 -71.070145                Beacon Hill Boston 02108   \n",
      "15       13.280  42.355957 -71.071724            87 Beacon St #1 Boston 02108   \n",
      "16        0.000  42.252857 -71.117050           21 Beacon St #5H Boston 02108   \n",
      "17       27.810  42.356266 -71.070145               71 Beacon St Boston 02108   \n",
      "18       24.040  42.356464 -71.061760         6 Hamilton Pl #408 Boston 02108   \n",
      "19       24.040  42.356464 -71.061760         6 Hamilton Pl #304 Boston 02108   \n",
      "20       67.450  42.357292 -71.065674           37 Beacon St #43 Boston 02108   \n",
      "21       27.810  42.356840 -71.070040         82 Chestnut St #21 Boston 02108   \n",
      "22       10.640  42.303974 -71.071250       130 Bowdoin St #1306 Boston 02108   \n",
      "23       18.160  42.357727 -71.065384                2 Joy St #8 Boston 02108   \n",
      "24       23.750  42.358070 -71.069046         2 Louisburg Sq #BG Boston 02108   \n",
      "25       27.810  42.356266 -71.070145                Beacon Hill Boston 02108   \n",
      "26        2.666  42.358536 -71.062590                Beacon Hill Boston 02108   \n",
      "27        2.666  42.358510 -71.062584                Beacon Hill Boston 02108   \n",
      "28       23.750  42.358112 -71.069250                Beacon Hill Boston 02108   \n",
      "29        0.000  42.252857 -71.117050           21 Beacon St #8A Boston 02108   \n",
      "...         ...        ...        ...                                     ...   \n",
      "13019     0.000  42.195860 -70.919810        100 Queen Anne Dr Weymouth 02189   \n",
      "13020     0.000  42.195860 -70.919810        100 Queen Anne Dr Weymouth 02189   \n",
      "13021     0.000  42.215805 -70.935550        573 Broad St #337 Weymouth 02189   \n",
      "13022     0.000  42.219810 -70.926895           591 East St #1 Weymouth 02189   \n",
      "13023     0.000  42.216194 -70.933754             617 Broad St Weymouth 02189   \n",
      "13024     0.000  42.216526 -70.936890         206 Middle St #2 Weymouth 02189   \n",
      "13025     0.000  42.199654 -70.930504       10 Chapman St #302 Weymouth 02189   \n",
      "13026     0.000  42.197500 -70.921486    102 Queen Anne Ct #31 Weymouth 02189   \n",
      "13027     0.000  42.219215 -70.919730    1640 Commercial St #2 Weymouth 02189   \n",
      "13028     0.000  42.216267 -70.934425         605 Broad St #34 Weymouth 02189   \n",
      "13029     0.000  42.210762 -70.934586                      Weymouth MA  02189   \n",
      "13030     0.000  42.215805 -70.935550        573 Broad St #337 Weymouth 02189   \n",
      "13031     0.000  42.155500 -70.946400           200 Trotter Rd Weymouth 02190   \n",
      "13032     0.000  42.155500 -70.946400           200 Trotter Rd Weymouth 02190   \n",
      "13033     0.000  42.155500 -70.946400           200 Trotter Rd Weymouth 02190   \n",
      "13034     0.000  42.172310 -70.952095         30 Central St #2 Weymouth 02190   \n",
      "13035     0.000  42.188763 -70.954796        1136 Middle St #1 Weymouth 02190   \n",
      "13036     0.000  42.179440 -70.943870          307 Pleasant St Weymouth 02190   \n",
      "13037     0.000  42.187740 -70.940800      117 Tall Oaks Dr #J Weymouth 02190   \n",
      "13038     0.000  42.171190 -70.923294              590 Pine St Weymouth 02190   \n",
      "13039     0.000  42.172386 -70.956024  11 Roberts Dr #13 South Weymouth 02190   \n",
      "13040     0.000  42.174000 -70.951220          105 Pleasant St Weymouth 02190   \n",
      "13041     0.000  42.155000 -70.947600      130 Trotter Rd #202 Weymouth 02190   \n",
      "13042     0.000  42.168148 -70.957565              30 Derby St Weymouth 02190   \n",
      "13043     0.000  42.155000 -70.947600      130 Trotter Rd #303 Weymouth 02190   \n",
      "13044     0.000  42.168137 -70.957450              36 Derby St Weymouth 02190   \n",
      "13045     0.000  42.166084 -70.954070            65 Webster St Weymouth 02190   \n",
      "13046     0.000  42.184357 -70.942440       120 Burkhall St #C Weymouth 02190   \n",
      "13047     0.000  42.168148 -70.957565        30 Derby St South Weymouth 02190   \n",
      "13048     0.000  42.186200 -70.956566         1025 Front St #1 Weymouth 02190   \n",
      "\n",
      "        Zip   RoomType  Bathrooms  SQFT         SQM   Price  \n",
      "0      2108          3        2.0  1425  132.386775  4250.0  \n",
      "1      2108          3        3.5  2500    232.2575  9500.0  \n",
      "2      2108          2        2.5  2250   209.03175  8500.0  \n",
      "3      2108          4        2.0  1325  123.096475  7200.0  \n",
      "4      2108          2        1.0   750    69.67725  3800.0  \n",
      "5      2108          3        2.0  1125  104.515875  6000.0  \n",
      "6      2108          4        2.0  1180   109.62554  6000.0  \n",
      "7      2108          1        1.0   650    60.38695  2250.0  \n",
      "8      2108          3        2.0  1000      92.903  5600.0  \n",
      "9      2108          1        1.0   449   41.713447  2795.0  \n",
      "10     2108          2        1.0  1400    130.0642  4000.0  \n",
      "11     2108        NaN        1.0   NaN           0  1700.0  \n",
      "12     2108        NaN        1.0   500     46.4515  1975.0  \n",
      "13     2108          2        2.5  2000     185.806  6000.0  \n",
      "14     2108          2        2.0   NaN           0  5200.0  \n",
      "15     2108          2        2.0  1500    139.3545  7500.0  \n",
      "16     2108          2        2.0   NaN           0  3400.0  \n",
      "17     2108          2        2.0  1240   115.19972  5000.0  \n",
      "18     2108          3        2.0   NaN           0  5600.0  \n",
      "19     2108          4        2.0   NaN           0  6300.0  \n",
      "20     2108          2        1.0   995   92.438485  3300.0  \n",
      "21     2108        NaN        1.0   413   38.368939  2600.0  \n",
      "22     2108          1        1.0   650    60.38695  2250.0  \n",
      "23     2108        NaN        1.0   500     46.4515  1750.0  \n",
      "24     2108          2        1.5  1200    111.4836  3000.0  \n",
      "25     2108          2        2.0   NaN           0  5200.0  \n",
      "26     2108          1        1.0   NaN           0  2500.0  \n",
      "27     2108        NaN        1.0   NaN           0  2600.0  \n",
      "28     2108          2        2.0   900     83.6127  3200.0  \n",
      "29     2108          1        1.0   600     55.7418  2600.0  \n",
      "...     ...        ...        ...   ...         ...     ...  \n",
      "13019  2189   1Bedroom        1.0   640    59.45792  1265.0  \n",
      "13020  2189  2Bedrooms        1.0   950    88.25785  1740.0  \n",
      "13021  2189          1        1.0   663   61.594689  1325.0  \n",
      "13022  2189          3        2.0  1329  123.468087  2190.0  \n",
      "13023  2189          1        1.0   NaN           0  1350.0  \n",
      "13024  2189          2        1.0  1050    97.54815  1500.0  \n",
      "13025  2189          2        1.0   950    88.25785  1600.0  \n",
      "13026  2189          2        2.0   950    88.25785  1830.0  \n",
      "13027  2189          2        1.0  1500    139.3545  1850.0  \n",
      "13028  2189          1        1.0   NaN           0  1325.0  \n",
      "13029  2189        NaN        NaN   NaN           0   600.0  \n",
      "13030  2189          1        1.0   680    63.17404  1300.0  \n",
      "13031  2190     Studio        1.0   522   48.495366  1514.0  \n",
      "13032  2190   1Bedroom        1.0   759   70.513377  1664.0  \n",
      "13033  2190  2Bedrooms        2.0  1023   95.039769  2111.0  \n",
      "13034  2190          2        1.0  1000      92.903  1600.0  \n",
      "13035  2190          2        1.0   850    78.96755  1495.0  \n",
      "13036  2190          2        1.0  1000      92.903  1500.0  \n",
      "13037  2190          2        2.5   NaN           0  2300.0  \n",
      "13038  2190          3        2.0  1264  117.429392  2400.0  \n",
      "13039  2190          2        1.0   650    60.38695  1450.0  \n",
      "13040  2190          2        1.5  1600    148.6448  2450.0  \n",
      "13041  2190          2        1.0   956   88.815268  1600.0  \n",
      "13042  2190          2        1.0   NaN           0  1350.0  \n",
      "13043  2190          2        1.0   956   88.815268  1695.0  \n",
      "13044  2190          2        1.0   NaN           0  1400.0  \n",
      "13045  2190          2        1.5  1000      92.903  1600.0  \n",
      "13046  2190          2        1.0  1040    96.61912  1600.0  \n",
      "13047  2190          2        1.0   NaN           0  1400.0  \n",
      "13048  2190          3        1.0  1200    111.4836  2100.0  \n",
      "\n",
      "[13049 rows x 47 columns]\n"
     ]
    }
   ],
   "source": [
    "df =GetPandasFromFileCSV(\"data/_RentPriceTruliaMergeFinal.csv\")\n",
    "print df \n",
    "# print df.shape\n",
    "# print df.head(3)\n",
    "# print df.columns.values"
   ]
  },
  {
   "cell_type": "code",
   "execution_count": 4,
   "metadata": {
    "collapsed": false
   },
   "outputs": [
    {
     "data": {
      "text/html": [
       "<div>\n",
       "<table border=\"1\" class=\"dataframe\">\n",
       "  <thead>\n",
       "    <tr style=\"text-align: right;\">\n",
       "      <th></th>\n",
       "      <th>pixelPlant</th>\n",
       "      <th>pixelPole</th>\n",
       "      <th>pixelLake</th>\n",
       "      <th>pixelRoad</th>\n",
       "      <th>pixelGrass</th>\n",
       "      <th>pixelWall</th>\n",
       "      <th>pixelCar</th>\n",
       "      <th>propertiesAsses</th>\n",
       "      <th>pixelSea</th>\n",
       "      <th>numCraigslistHouse</th>\n",
       "      <th>...</th>\n",
       "      <th>pixelSky</th>\n",
       "      <th>Latitude</th>\n",
       "      <th>Longitude</th>\n",
       "      <th>Address</th>\n",
       "      <th>Zip</th>\n",
       "      <th>RoomType</th>\n",
       "      <th>Bathrooms</th>\n",
       "      <th>SQFT</th>\n",
       "      <th>SQM</th>\n",
       "      <th>Price</th>\n",
       "    </tr>\n",
       "  </thead>\n",
       "  <tbody>\n",
       "    <tr>\n",
       "      <th>0</th>\n",
       "      <td>0.0</td>\n",
       "      <td>0.000</td>\n",
       "      <td>60.99</td>\n",
       "      <td>2.671</td>\n",
       "      <td>0.0</td>\n",
       "      <td>2.116</td>\n",
       "      <td>6.639</td>\n",
       "      <td>142585895</td>\n",
       "      <td>0.0</td>\n",
       "      <td>0</td>\n",
       "      <td>...</td>\n",
       "      <td>18.16</td>\n",
       "      <td>42.358550</td>\n",
       "      <td>-71.064780</td>\n",
       "      <td>37 Mount Vernon #4 Boston 02108</td>\n",
       "      <td>2108</td>\n",
       "      <td>3</td>\n",
       "      <td>2.0</td>\n",
       "      <td>1425</td>\n",
       "      <td>132.386775</td>\n",
       "      <td>4250.0</td>\n",
       "    </tr>\n",
       "    <tr>\n",
       "      <th>1</th>\n",
       "      <td>0.0</td>\n",
       "      <td>0.004</td>\n",
       "      <td>34.12</td>\n",
       "      <td>0.217</td>\n",
       "      <td>0.0</td>\n",
       "      <td>4.409</td>\n",
       "      <td>22.560</td>\n",
       "      <td>173725104</td>\n",
       "      <td>0.0</td>\n",
       "      <td>0</td>\n",
       "      <td>...</td>\n",
       "      <td>27.81</td>\n",
       "      <td>42.356533</td>\n",
       "      <td>-71.070305</td>\n",
       "      <td>3 Byron St Boston 02108</td>\n",
       "      <td>2108</td>\n",
       "      <td>3</td>\n",
       "      <td>3.5</td>\n",
       "      <td>2500</td>\n",
       "      <td>232.2575</td>\n",
       "      <td>9500.0</td>\n",
       "    </tr>\n",
       "    <tr>\n",
       "      <th>2</th>\n",
       "      <td>0.0</td>\n",
       "      <td>0.000</td>\n",
       "      <td>0.00</td>\n",
       "      <td>0.000</td>\n",
       "      <td>0.0</td>\n",
       "      <td>0.000</td>\n",
       "      <td>0.000</td>\n",
       "      <td>243090896</td>\n",
       "      <td>0.0</td>\n",
       "      <td>0</td>\n",
       "      <td>...</td>\n",
       "      <td>0.00</td>\n",
       "      <td>42.355400</td>\n",
       "      <td>-71.061510</td>\n",
       "      <td>3 Winter Pl Boston 02108</td>\n",
       "      <td>2108</td>\n",
       "      <td>2</td>\n",
       "      <td>2.5</td>\n",
       "      <td>2250</td>\n",
       "      <td>209.03175</td>\n",
       "      <td>8500.0</td>\n",
       "    </tr>\n",
       "    <tr>\n",
       "      <th>3</th>\n",
       "      <td>0.0</td>\n",
       "      <td>0.000</td>\n",
       "      <td>37.65</td>\n",
       "      <td>1.242</td>\n",
       "      <td>0.0</td>\n",
       "      <td>0.694</td>\n",
       "      <td>0.020</td>\n",
       "      <td>216929815</td>\n",
       "      <td>0.0</td>\n",
       "      <td>0</td>\n",
       "      <td>...</td>\n",
       "      <td>24.04</td>\n",
       "      <td>42.356464</td>\n",
       "      <td>-71.061760</td>\n",
       "      <td>6 Hamilton Pl #509 Boston 02108</td>\n",
       "      <td>2108</td>\n",
       "      <td>4</td>\n",
       "      <td>2.0</td>\n",
       "      <td>1325</td>\n",
       "      <td>123.096475</td>\n",
       "      <td>7200.0</td>\n",
       "    </tr>\n",
       "    <tr>\n",
       "      <th>4</th>\n",
       "      <td>0.0</td>\n",
       "      <td>0.000</td>\n",
       "      <td>37.65</td>\n",
       "      <td>1.242</td>\n",
       "      <td>0.0</td>\n",
       "      <td>0.694</td>\n",
       "      <td>0.020</td>\n",
       "      <td>216929815</td>\n",
       "      <td>0.0</td>\n",
       "      <td>0</td>\n",
       "      <td>...</td>\n",
       "      <td>24.04</td>\n",
       "      <td>42.356464</td>\n",
       "      <td>-71.061760</td>\n",
       "      <td>6 Hamilton Pl #302 Boston 02108</td>\n",
       "      <td>2108</td>\n",
       "      <td>2</td>\n",
       "      <td>1.0</td>\n",
       "      <td>750</td>\n",
       "      <td>69.67725</td>\n",
       "      <td>3800.0</td>\n",
       "    </tr>\n",
       "  </tbody>\n",
       "</table>\n",
       "<p>5 rows × 47 columns</p>\n",
       "</div>"
      ],
      "text/plain": [
       "   pixelPlant  pixelPole  pixelLake  pixelRoad  pixelGrass  pixelWall  \\\n",
       "0         0.0      0.000      60.99      2.671         0.0      2.116   \n",
       "1         0.0      0.004      34.12      0.217         0.0      4.409   \n",
       "2         0.0      0.000       0.00      0.000         0.0      0.000   \n",
       "3         0.0      0.000      37.65      1.242         0.0      0.694   \n",
       "4         0.0      0.000      37.65      1.242         0.0      0.694   \n",
       "\n",
       "   pixelCar  propertiesAsses  pixelSea  numCraigslistHouse   ...    pixelSky  \\\n",
       "0     6.639        142585895       0.0                   0   ...       18.16   \n",
       "1    22.560        173725104       0.0                   0   ...       27.81   \n",
       "2     0.000        243090896       0.0                   0   ...        0.00   \n",
       "3     0.020        216929815       0.0                   0   ...       24.04   \n",
       "4     0.020        216929815       0.0                   0   ...       24.04   \n",
       "\n",
       "    Latitude  Longitude                          Address   Zip  RoomType  \\\n",
       "0  42.358550 -71.064780  37 Mount Vernon #4 Boston 02108  2108         3   \n",
       "1  42.356533 -71.070305          3 Byron St Boston 02108  2108         3   \n",
       "2  42.355400 -71.061510         3 Winter Pl Boston 02108  2108         2   \n",
       "3  42.356464 -71.061760  6 Hamilton Pl #509 Boston 02108  2108         4   \n",
       "4  42.356464 -71.061760  6 Hamilton Pl #302 Boston 02108  2108         2   \n",
       "\n",
       "   Bathrooms  SQFT         SQM   Price  \n",
       "0        2.0  1425  132.386775  4250.0  \n",
       "1        3.5  2500    232.2575  9500.0  \n",
       "2        2.5  2250   209.03175  8500.0  \n",
       "3        2.0  1325  123.096475  7200.0  \n",
       "4        1.0   750    69.67725  3800.0  \n",
       "\n",
       "[5 rows x 47 columns]"
      ]
     },
     "execution_count": 4,
     "metadata": {},
     "output_type": "execute_result"
    }
   ],
   "source": [
    "df.head()"
   ]
  },
  {
   "cell_type": "code",
   "execution_count": 5,
   "metadata": {
    "collapsed": false
   },
   "outputs": [
    {
     "name": "stdout",
     "output_type": "stream",
     "text": [
      "(13049, 47)\n",
      "['pixelPlant' 'pixelPole' 'pixelLake' 'pixelRoad' 'pixelGrass' 'pixelWall'\n",
      " 'pixelCar' 'propertiesAsses' 'pixelSea' 'numCraigslistHouse' 'pixelRiver'\n",
      " 'pixelBus' 'pixelCeiling' 'pixelPath' 'pixelBuilding' 'crime' 'pixelFence'\n",
      " 'walkSchool' 'walkMbta' 'energySiteEUI' 'pixelPerson' 'pixelTree'\n",
      " 'pixelVan' 'walkPark' 'walkUniversity' 'pixelSidewalk' 'pixelGround'\n",
      " 'pixelMountain' 'pixelPalmTree' 'pixelHouse' 'pixelBridge' 'pixelSign'\n",
      " 'pixelRailing' 'pixelField' 'pixelWindow' 'pixelGrandstand'\n",
      " 'numCraigslistRoom' 'pixelSky' 'Latitude' 'Longitude' 'Address' 'Zip'\n",
      " 'RoomType' 'Bathrooms' 'SQFT' 'SQM' 'Price']\n"
     ]
    }
   ],
   "source": [
    "print df.shape\n",
    "print df.columns.values"
   ]
  },
  {
   "cell_type": "code",
   "execution_count": 6,
   "metadata": {
    "collapsed": false
   },
   "outputs": [
    {
     "data": {
      "text/plain": [
       "array(['pixelPlant', 'pixelPole', 'pixelLake', 'pixelRoad', 'pixelGrass',\n",
       "       'pixelWall', 'pixelCar', 'propertiesAsses', 'pixelSea',\n",
       "       'numCraigslistHouse', 'pixelRiver', 'pixelBus', 'pixelCeiling',\n",
       "       'pixelPath', 'pixelBuilding', 'crime', 'pixelFence', 'walkSchool',\n",
       "       'walkMbta', 'energySiteEUI', 'pixelPerson', 'pixelTree', 'pixelVan',\n",
       "       'walkPark', 'walkUniversity', 'pixelSidewalk', 'pixelGround',\n",
       "       'pixelMountain', 'pixelPalmTree', 'pixelHouse', 'pixelBridge',\n",
       "       'pixelSign', 'pixelRailing', 'pixelField', 'pixelWindow',\n",
       "       'pixelGrandstand', 'numCraigslistRoom', 'pixelSky', 'Latitude',\n",
       "       'Longitude', 'Address', 'Zip', 'RoomType', 'Bathrooms', 'SQFT',\n",
       "       'SQM', 'Price'], dtype=object)"
      ]
     },
     "execution_count": 6,
     "metadata": {},
     "output_type": "execute_result"
    }
   ],
   "source": [
    "df.columns.values"
   ]
  },
  {
   "cell_type": "code",
   "execution_count": 7,
   "metadata": {
    "collapsed": false
   },
   "outputs": [
    {
     "name": "stderr",
     "output_type": "stream",
     "text": [
      "C:\\Users\\EllieHan\\Anaconda2\\lib\\site-packages\\ipykernel\\__main__.py:1: FutureWarning: convert_objects is deprecated.  Use the data-type specific converters pd.to_datetime, pd.to_timedelta and pd.to_numeric.\n",
      "  if __name__ == '__main__':\n"
     ]
    }
   ],
   "source": [
    "data = df.convert_objects(convert_numeric=True)\n",
    "\n",
    "to_float = []\n",
    "to_encode = []\n",
    "for col in data.columns:\n",
    "    if data[col].dtype =='object':\n",
    "        to_encode.append(col);\n",
    "    if data[col].dtype =='int64':\n",
    "        to_float.append(col);\n",
    "#     print col,data[col].dtype\n",
    "        \n",
    "# print to_float\n",
    "# print \"----------------------\"\n",
    "# print to_encode\n",
    "\n",
    "for feature_name in to_float:\n",
    "    data[feature_name] = data[feature_name].astype(float)\n",
    "\n",
    "def encode_categorical(array):\n",
    "    if not array.dtype == np.dtype('float64'):\n",
    "        return preprocessing.LabelEncoder().fit_transform(array) \n",
    "    else:\n",
    "        return array\n",
    "    \n",
    "# Categorical columns for use in one-hot encoder\n",
    "categorical = (data.dtypes.values != np.dtype('float64'))\n",
    "\n",
    "# Encode all labels\n",
    "data = data.apply(encode_categorical)"
   ]
  },
  {
   "cell_type": "code",
   "execution_count": 8,
   "metadata": {
    "collapsed": false
   },
   "outputs": [
    {
     "name": "stdout",
     "output_type": "stream",
     "text": [
      "pixelPlant 0\n",
      "pixelPole 0\n",
      "pixelLake 0\n",
      "pixelRoad 0\n",
      "pixelGrass 0\n",
      "pixelWall 0\n",
      "pixelCar 0\n",
      "propertiesAsses 0\n",
      "pixelSea 0\n",
      "numCraigslistHouse 0\n",
      "pixelRiver 0\n",
      "pixelBus 0\n",
      "pixelCeiling 0\n",
      "pixelPath 0\n",
      "pixelBuilding 0\n",
      "crime 0\n",
      "pixelFence 0\n",
      "walkSchool 0\n",
      "walkMbta 0\n",
      "energySiteEUI 0\n",
      "pixelPerson 0\n",
      "pixelTree 0\n",
      "pixelVan 0\n",
      "walkPark 0\n",
      "walkUniversity 0\n",
      "pixelSidewalk 0\n",
      "pixelGround 0\n",
      "pixelMountain 0\n",
      "pixelPalmTree 0\n",
      "pixelHouse 0\n",
      "pixelBridge 0\n",
      "pixelSign 0\n",
      "pixelRailing 0\n",
      "pixelField 0\n",
      "pixelWindow 0\n",
      "pixelGrandstand 0\n",
      "numCraigslistRoom 0\n",
      "pixelSky 0\n",
      "Latitude 0\n",
      "Longitude 0\n",
      "Address 0\n",
      "Zip 0\n",
      "RoomType 995\n",
      "Bathrooms 125\n",
      "SQFT 8630\n",
      "SQM 0\n",
      "Price 27\n"
     ]
    }
   ],
   "source": [
    "for col in df.columns:\n",
    "    print col,len(df[df[col].isnull()])"
   ]
  },
  {
   "cell_type": "markdown",
   "metadata": {},
   "source": [
    "# Deleting Null"
   ]
  },
  {
   "cell_type": "code",
   "execution_count": 9,
   "metadata": {
    "collapsed": false
   },
   "outputs": [
    {
     "name": "stdout",
     "output_type": "stream",
     "text": [
      "before processing NAN :  (13049, 47)\n",
      "after processing NAN : (3753, 48)\n"
     ]
    }
   ],
   "source": [
    "def RemoveRowWithNAN(data):\n",
    "    data = data.dropna(axis=0, how='any', thresh=None, subset=None, inplace=False)\n",
    "    return data.reset_index()\n",
    "\n",
    "def RemoveColumnsWithNull(data, num):\n",
    "    complete_cols = [column for column in data.columns if len(data[column][data[column].isnull()]) < num]\n",
    "    return data[complete_cols]\n",
    "\n",
    "def ReomveRowwithNANWithNum(data):\n",
    "    data = data.dropna(thresh=None)\n",
    "    return data\n",
    "\n",
    "def GetNumpyColumnFromIndex(theDF):\n",
    "    theD = pd.DataFrame(theDF.values);\n",
    "    return theD.as_matrix()\n",
    "\n",
    "def CheckPandasNAN(data):\n",
    "    theResult = pd.isnull(data)\n",
    "    count = 0;\n",
    "    for i in theResult:\n",
    "        if(i == True): count+=1\n",
    "    return \"the number of NAN is :\" , count\n",
    "\n",
    "print \"before processing NAN : \", df.shape\n",
    "\n",
    "data.dropna(axis=0,subset=['RoomType','Price','Bathrooms'],inplace=True)\n",
    "\n",
    "## deal with the NAN data !!!!!!!!!!!!!!!!!!!!!!!!!!!!\n",
    "df_new = RemoveRowWithNAN(data)\n",
    "\n",
    "# df_new = df_new.convert_objects(convert_numeric=True)\n",
    "df_new = ReomveRowwithNANWithNum(df_new)\n",
    "\n",
    "print \"after processing NAN :\", df_new.shape\n"
   ]
  },
  {
   "cell_type": "markdown",
   "metadata": {},
   "source": [
    "# Filling Null"
   ]
  },
  {
   "cell_type": "code",
   "execution_count": 10,
   "metadata": {
    "collapsed": false
   },
   "outputs": [],
   "source": [
    "k=4\n",
    "knntest = data[data['SQFT'].isnull()]\n",
    "knntrain = data[data['SQFT'].isnull()==False]\n",
    "\n",
    "xknn_train = knntrain[['RoomType','Bathrooms','Longitude','Latitude','Zip']].values\n",
    "yknn_train = knntrain['SQFT'].values\n",
    "\n",
    "xknn_test = knntest[['RoomType','Bathrooms','Longitude','Latitude','Zip']].values\n",
    "neighbours = KNN(n_neighbors=k)\n",
    "neighbours.fit(xknn_train, yknn_train)\n",
    "yknn_test = neighbours.predict(xknn_test)\n",
    "\n",
    "my_df = data.set_value( data['SQFT'].isnull(),'SQFT',yknn_test)\n"
   ]
  },
  {
   "cell_type": "code",
   "execution_count": 11,
   "metadata": {
    "collapsed": false
   },
   "outputs": [
    {
     "data": {
      "text/plain": [
       "(11569, 47)"
      ]
     },
     "execution_count": 11,
     "metadata": {},
     "output_type": "execute_result"
    }
   ],
   "source": [
    "my_df.shape"
   ]
  },
  {
   "cell_type": "code",
   "execution_count": 12,
   "metadata": {
    "collapsed": false
   },
   "outputs": [
    {
     "name": "stdout",
     "output_type": "stream",
     "text": [
      "pixelPlant 0\n",
      "pixelPole 0\n",
      "pixelLake 0\n",
      "pixelRoad 0\n",
      "pixelGrass 0\n",
      "pixelWall 0\n",
      "pixelCar 0\n",
      "propertiesAsses 0\n",
      "pixelSea 0\n",
      "numCraigslistHouse 0\n",
      "pixelRiver 0\n",
      "pixelBus 0\n",
      "pixelCeiling 0\n",
      "pixelPath 0\n",
      "pixelBuilding 0\n",
      "crime 0\n",
      "pixelFence 0\n",
      "walkSchool 0\n",
      "walkMbta 0\n",
      "energySiteEUI 0\n",
      "pixelPerson 0\n",
      "pixelTree 0\n",
      "pixelVan 0\n",
      "walkPark 0\n",
      "walkUniversity 0\n",
      "pixelSidewalk 0\n",
      "pixelGround 0\n",
      "pixelMountain 0\n",
      "pixelPalmTree 0\n",
      "pixelHouse 0\n",
      "pixelBridge 0\n",
      "pixelSign 0\n",
      "pixelRailing 0\n",
      "pixelField 0\n",
      "pixelWindow 0\n",
      "pixelGrandstand 0\n",
      "numCraigslistRoom 0\n",
      "pixelSky 0\n",
      "Latitude 0\n",
      "Longitude 0\n",
      "Address 0\n",
      "Zip 0\n",
      "RoomType 0\n",
      "Bathrooms 0\n",
      "SQFT 0\n",
      "SQM 0\n",
      "Price 0\n"
     ]
    }
   ],
   "source": [
    "for col in my_df.columns:\n",
    "    print col,len(my_df[my_df[col].isnull()])"
   ]
  },
  {
   "cell_type": "code",
   "execution_count": 13,
   "metadata": {
    "collapsed": false
   },
   "outputs": [
    {
     "data": {
      "text/html": [
       "<div>\n",
       "<table border=\"1\" class=\"dataframe\">\n",
       "  <thead>\n",
       "    <tr style=\"text-align: right;\">\n",
       "      <th></th>\n",
       "      <th>pixelPlant</th>\n",
       "      <th>pixelPole</th>\n",
       "      <th>pixelLake</th>\n",
       "      <th>pixelRoad</th>\n",
       "      <th>pixelGrass</th>\n",
       "      <th>pixelWall</th>\n",
       "      <th>pixelCar</th>\n",
       "      <th>propertiesAsses</th>\n",
       "      <th>pixelSea</th>\n",
       "      <th>numCraigslistHouse</th>\n",
       "      <th>...</th>\n",
       "      <th>pixelSky</th>\n",
       "      <th>Latitude</th>\n",
       "      <th>Longitude</th>\n",
       "      <th>Address</th>\n",
       "      <th>Zip</th>\n",
       "      <th>RoomType</th>\n",
       "      <th>Bathrooms</th>\n",
       "      <th>SQFT</th>\n",
       "      <th>SQM</th>\n",
       "      <th>Price</th>\n",
       "    </tr>\n",
       "  </thead>\n",
       "  <tbody>\n",
       "    <tr>\n",
       "      <th>0</th>\n",
       "      <td>0.0</td>\n",
       "      <td>0.000</td>\n",
       "      <td>60.99</td>\n",
       "      <td>2.671</td>\n",
       "      <td>0.0</td>\n",
       "      <td>2.116</td>\n",
       "      <td>6.639</td>\n",
       "      <td>142585895.0</td>\n",
       "      <td>0.0</td>\n",
       "      <td>0.0</td>\n",
       "      <td>...</td>\n",
       "      <td>18.16</td>\n",
       "      <td>42.358550</td>\n",
       "      <td>-71.064780</td>\n",
       "      <td>4755</td>\n",
       "      <td>2108.0</td>\n",
       "      <td>3.0</td>\n",
       "      <td>2.0</td>\n",
       "      <td>1425.0</td>\n",
       "      <td>132.386775</td>\n",
       "      <td>4250.0</td>\n",
       "    </tr>\n",
       "    <tr>\n",
       "      <th>1</th>\n",
       "      <td>0.0</td>\n",
       "      <td>0.004</td>\n",
       "      <td>34.12</td>\n",
       "      <td>0.217</td>\n",
       "      <td>0.0</td>\n",
       "      <td>4.409</td>\n",
       "      <td>22.560</td>\n",
       "      <td>173725104.0</td>\n",
       "      <td>0.0</td>\n",
       "      <td>0.0</td>\n",
       "      <td>...</td>\n",
       "      <td>27.81</td>\n",
       "      <td>42.356533</td>\n",
       "      <td>-71.070305</td>\n",
       "      <td>4058</td>\n",
       "      <td>2108.0</td>\n",
       "      <td>3.0</td>\n",
       "      <td>3.5</td>\n",
       "      <td>2500.0</td>\n",
       "      <td>232.257500</td>\n",
       "      <td>9500.0</td>\n",
       "    </tr>\n",
       "    <tr>\n",
       "      <th>2</th>\n",
       "      <td>0.0</td>\n",
       "      <td>0.000</td>\n",
       "      <td>0.00</td>\n",
       "      <td>0.000</td>\n",
       "      <td>0.0</td>\n",
       "      <td>0.000</td>\n",
       "      <td>0.000</td>\n",
       "      <td>243090896.0</td>\n",
       "      <td>0.0</td>\n",
       "      <td>0.0</td>\n",
       "      <td>...</td>\n",
       "      <td>0.00</td>\n",
       "      <td>42.355400</td>\n",
       "      <td>-71.061510</td>\n",
       "      <td>4096</td>\n",
       "      <td>2108.0</td>\n",
       "      <td>2.0</td>\n",
       "      <td>2.5</td>\n",
       "      <td>2250.0</td>\n",
       "      <td>209.031750</td>\n",
       "      <td>8500.0</td>\n",
       "    </tr>\n",
       "    <tr>\n",
       "      <th>3</th>\n",
       "      <td>0.0</td>\n",
       "      <td>0.000</td>\n",
       "      <td>37.65</td>\n",
       "      <td>1.242</td>\n",
       "      <td>0.0</td>\n",
       "      <td>0.694</td>\n",
       "      <td>0.020</td>\n",
       "      <td>216929815.0</td>\n",
       "      <td>0.0</td>\n",
       "      <td>0.0</td>\n",
       "      <td>...</td>\n",
       "      <td>24.04</td>\n",
       "      <td>42.356464</td>\n",
       "      <td>-71.061760</td>\n",
       "      <td>6249</td>\n",
       "      <td>2108.0</td>\n",
       "      <td>4.0</td>\n",
       "      <td>2.0</td>\n",
       "      <td>1325.0</td>\n",
       "      <td>123.096475</td>\n",
       "      <td>7200.0</td>\n",
       "    </tr>\n",
       "    <tr>\n",
       "      <th>4</th>\n",
       "      <td>0.0</td>\n",
       "      <td>0.000</td>\n",
       "      <td>37.65</td>\n",
       "      <td>1.242</td>\n",
       "      <td>0.0</td>\n",
       "      <td>0.694</td>\n",
       "      <td>0.020</td>\n",
       "      <td>216929815.0</td>\n",
       "      <td>0.0</td>\n",
       "      <td>0.0</td>\n",
       "      <td>...</td>\n",
       "      <td>24.04</td>\n",
       "      <td>42.356464</td>\n",
       "      <td>-71.061760</td>\n",
       "      <td>6242</td>\n",
       "      <td>2108.0</td>\n",
       "      <td>2.0</td>\n",
       "      <td>1.0</td>\n",
       "      <td>750.0</td>\n",
       "      <td>69.677250</td>\n",
       "      <td>3800.0</td>\n",
       "    </tr>\n",
       "  </tbody>\n",
       "</table>\n",
       "<p>5 rows × 47 columns</p>\n",
       "</div>"
      ],
      "text/plain": [
       "   pixelPlant  pixelPole  pixelLake  pixelRoad  pixelGrass  pixelWall  \\\n",
       "0         0.0      0.000      60.99      2.671         0.0      2.116   \n",
       "1         0.0      0.004      34.12      0.217         0.0      4.409   \n",
       "2         0.0      0.000       0.00      0.000         0.0      0.000   \n",
       "3         0.0      0.000      37.65      1.242         0.0      0.694   \n",
       "4         0.0      0.000      37.65      1.242         0.0      0.694   \n",
       "\n",
       "   pixelCar  propertiesAsses  pixelSea  numCraigslistHouse   ...    pixelSky  \\\n",
       "0     6.639      142585895.0       0.0                 0.0   ...       18.16   \n",
       "1    22.560      173725104.0       0.0                 0.0   ...       27.81   \n",
       "2     0.000      243090896.0       0.0                 0.0   ...        0.00   \n",
       "3     0.020      216929815.0       0.0                 0.0   ...       24.04   \n",
       "4     0.020      216929815.0       0.0                 0.0   ...       24.04   \n",
       "\n",
       "    Latitude  Longitude  Address     Zip  RoomType  Bathrooms    SQFT  \\\n",
       "0  42.358550 -71.064780     4755  2108.0       3.0        2.0  1425.0   \n",
       "1  42.356533 -71.070305     4058  2108.0       3.0        3.5  2500.0   \n",
       "2  42.355400 -71.061510     4096  2108.0       2.0        2.5  2250.0   \n",
       "3  42.356464 -71.061760     6249  2108.0       4.0        2.0  1325.0   \n",
       "4  42.356464 -71.061760     6242  2108.0       2.0        1.0   750.0   \n",
       "\n",
       "          SQM   Price  \n",
       "0  132.386775  4250.0  \n",
       "1  232.257500  9500.0  \n",
       "2  209.031750  8500.0  \n",
       "3  123.096475  7200.0  \n",
       "4   69.677250  3800.0  \n",
       "\n",
       "[5 rows x 47 columns]"
      ]
     },
     "execution_count": 13,
     "metadata": {},
     "output_type": "execute_result"
    }
   ],
   "source": [
    "my_df.head()"
   ]
  },
  {
   "cell_type": "markdown",
   "metadata": {},
   "source": [
    "# Selecting columns"
   ]
  },
  {
   "cell_type": "code",
   "execution_count": 14,
   "metadata": {
    "collapsed": false
   },
   "outputs": [
    {
     "data": {
      "text/plain": [
       "array(['pixelPlant', 'pixelPole', 'pixelLake', 'pixelRoad', 'pixelGrass',\n",
       "       'pixelWall', 'pixelCar', 'propertiesAsses', 'pixelSea',\n",
       "       'numCraigslistHouse', 'pixelRiver', 'pixelBus', 'pixelCeiling',\n",
       "       'pixelPath', 'pixelBuilding', 'crime', 'pixelFence', 'walkSchool',\n",
       "       'walkMbta', 'energySiteEUI', 'pixelPerson', 'pixelTree', 'pixelVan',\n",
       "       'walkPark', 'walkUniversity', 'pixelSidewalk', 'pixelGround',\n",
       "       'pixelMountain', 'pixelPalmTree', 'pixelHouse', 'pixelBridge',\n",
       "       'pixelSign', 'pixelRailing', 'pixelField', 'pixelWindow',\n",
       "       'pixelGrandstand', 'numCraigslistRoom', 'pixelSky', 'Latitude',\n",
       "       'Longitude', 'Address', 'Zip', 'RoomType', 'Bathrooms', 'SQFT',\n",
       "       'SQM', 'Price'], dtype=object)"
      ]
     },
     "execution_count": 14,
     "metadata": {},
     "output_type": "execute_result"
    }
   ],
   "source": [
    "my_df.columns.values"
   ]
  },
  {
   "cell_type": "code",
   "execution_count": 16,
   "metadata": {
    "collapsed": false
   },
   "outputs": [],
   "source": [
    "# df_drop = my_df.drop('Address',1)\n",
    "df_drop = my_df.drop('Address',1)\n"
   ]
  },
  {
   "cell_type": "code",
   "execution_count": 22,
   "metadata": {
    "collapsed": true
   },
   "outputs": [],
   "source": [
    "df_drop = df_drop.drop('Zip',1)\n",
    "df_drop = my_df.drop('Address',1)"
   ]
  },
  {
   "cell_type": "code",
   "execution_count": 30,
   "metadata": {
    "collapsed": false
   },
   "outputs": [
    {
     "name": "stdout",
     "output_type": "stream",
     "text": [
      "<type 'float'>\n",
      "<type 'float'>\n"
     ]
    }
   ],
   "source": [
    "my = 0\n",
    "my1 = 0.0\n",
    "\n",
    "print type (float(my))\n",
    "print type (my1)"
   ]
  },
  {
   "cell_type": "code",
   "execution_count": 24,
   "metadata": {
    "collapsed": true
   },
   "outputs": [],
   "source": [
    "df_drop = df_drop.drop('Zip',1)"
   ]
  },
  {
   "cell_type": "code",
   "execution_count": 25,
   "metadata": {
    "collapsed": false
   },
   "outputs": [
    {
     "data": {
      "text/plain": [
       "array(['pixelPlant', 'pixelPole', 'pixelLake', 'pixelRoad', 'pixelGrass',\n",
       "       'pixelWall', 'pixelCar', 'propertiesAsses', 'pixelSea',\n",
       "       'numCraigslistHouse', 'pixelRiver', 'pixelBus', 'pixelCeiling',\n",
       "       'pixelPath', 'pixelBuilding', 'crime', 'pixelFence', 'walkSchool',\n",
       "       'walkMbta', 'energySiteEUI', 'pixelPerson', 'pixelTree', 'pixelVan',\n",
       "       'walkPark', 'walkUniversity', 'pixelSidewalk', 'pixelGround',\n",
       "       'pixelMountain', 'pixelPalmTree', 'pixelHouse', 'pixelBridge',\n",
       "       'pixelSign', 'pixelRailing', 'pixelField', 'pixelWindow',\n",
       "       'pixelGrandstand', 'numCraigslistRoom', 'pixelSky', 'Latitude',\n",
       "       'Longitude', 'RoomType', 'Bathrooms', 'SQFT', 'SQM', 'Price'], dtype=object)"
      ]
     },
     "execution_count": 25,
     "metadata": {},
     "output_type": "execute_result"
    }
   ],
   "source": [
    "df_drop.columns.values"
   ]
  },
  {
   "cell_type": "code",
   "execution_count": 26,
   "metadata": {
    "collapsed": false
   },
   "outputs": [],
   "source": [
    "df_iloc = df_drop.iloc[:10000,7:]"
   ]
  },
  {
   "cell_type": "code",
   "execution_count": 32,
   "metadata": {
    "collapsed": false
   },
   "outputs": [
    {
     "name": "stdout",
     "output_type": "stream",
     "text": [
      "['propertiesAsses' 'pixelSea' 'numCraigslistHouse' 'pixelRiver' 'pixelBus'\n",
      " 'pixelCeiling' 'pixelPath' 'pixelBuilding' 'crime' 'pixelFence'\n",
      " 'walkSchool' 'walkMbta' 'energySiteEUI' 'pixelPerson' 'pixelTree'\n",
      " 'pixelVan' 'walkPark' 'walkUniversity' 'pixelSidewalk' 'pixelGround'\n",
      " 'pixelMountain' 'pixelPalmTree' 'pixelHouse' 'pixelBridge' 'pixelSign'\n",
      " 'pixelRailing' 'pixelField' 'pixelWindow' 'pixelGrandstand'\n",
      " 'numCraigslistRoom' 'pixelSky' 'Latitude' 'Longitude' 'RoomType'\n",
      " 'Bathrooms' 'SQFT' 'SQM' 'Price']\n",
      "(10000, 38)\n",
      "   propertiesAsses  pixelSea  numCraigslistHouse  pixelRiver  pixelBus  \\\n",
      "0      142585895.0       0.0                 0.0         0.0       0.0   \n",
      "1      173725104.0       0.0                 0.0         0.0       0.0   \n",
      "2      243090896.0       0.0                 0.0         0.0       0.0   \n",
      "3      216929815.0       0.0                 0.0         0.0       0.0   \n",
      "4      216929815.0       0.0                 0.0         0.0       0.0   \n",
      "\n",
      "   pixelCeiling  pixelPath  pixelBuilding  crime  pixelFence   ...    \\\n",
      "0           0.0      0.000            0.0    4.0         0.0   ...     \n",
      "1           0.0      0.000            0.0   14.0         0.0   ...     \n",
      "2           0.0      0.000            0.0   19.0         0.0   ...     \n",
      "3           0.0      0.804            0.0   35.0         0.0   ...     \n",
      "4           0.0      0.804            0.0   35.0         0.0   ...     \n",
      "\n",
      "   pixelGrandstand  numCraigslistRoom  pixelSky   Latitude  Longitude  \\\n",
      "0              0.0                0.0     18.16  42.358550 -71.064780   \n",
      "1              0.0                0.0     27.81  42.356533 -71.070305   \n",
      "2              0.0                0.0      0.00  42.355400 -71.061510   \n",
      "3              0.0                0.0     24.04  42.356464 -71.061760   \n",
      "4              0.0                0.0     24.04  42.356464 -71.061760   \n",
      "\n",
      "   RoomType  Bathrooms    SQFT         SQM   Price  \n",
      "0       3.0        2.0  1425.0  132.386775  4250.0  \n",
      "1       3.0        3.5  2500.0  232.257500  9500.0  \n",
      "2       2.0        2.5  2250.0  209.031750  8500.0  \n",
      "3       4.0        2.0  1325.0  123.096475  7200.0  \n",
      "4       2.0        1.0   750.0   69.677250  3800.0  \n",
      "\n",
      "[5 rows x 38 columns]\n"
     ]
    }
   ],
   "source": [
    "print df_iloc.columns.values\n",
    "print df_iloc.shape\n",
    "print df_iloc.head()"
   ]
  },
  {
   "cell_type": "code",
   "execution_count": 33,
   "metadata": {
    "collapsed": false
   },
   "outputs": [],
   "source": [
    "df_iloc['pixelWater'] = df_iloc['pixelRiver'] + df_iloc['pixelSea']"
   ]
  },
  {
   "cell_type": "code",
   "execution_count": 34,
   "metadata": {
    "collapsed": false
   },
   "outputs": [
    {
     "data": {
      "text/html": [
       "<div>\n",
       "<table border=\"1\" class=\"dataframe\">\n",
       "  <thead>\n",
       "    <tr style=\"text-align: right;\">\n",
       "      <th></th>\n",
       "      <th>propertiesAsses</th>\n",
       "      <th>pixelSea</th>\n",
       "      <th>numCraigslistHouse</th>\n",
       "      <th>pixelRiver</th>\n",
       "      <th>pixelBus</th>\n",
       "      <th>pixelCeiling</th>\n",
       "      <th>pixelPath</th>\n",
       "      <th>pixelBuilding</th>\n",
       "      <th>crime</th>\n",
       "      <th>pixelFence</th>\n",
       "      <th>...</th>\n",
       "      <th>numCraigslistRoom</th>\n",
       "      <th>pixelSky</th>\n",
       "      <th>Latitude</th>\n",
       "      <th>Longitude</th>\n",
       "      <th>RoomType</th>\n",
       "      <th>Bathrooms</th>\n",
       "      <th>SQFT</th>\n",
       "      <th>SQM</th>\n",
       "      <th>Price</th>\n",
       "      <th>pixelWater</th>\n",
       "    </tr>\n",
       "  </thead>\n",
       "  <tbody>\n",
       "    <tr>\n",
       "      <th>0</th>\n",
       "      <td>142585895.0</td>\n",
       "      <td>0.0</td>\n",
       "      <td>0.0</td>\n",
       "      <td>0.0</td>\n",
       "      <td>0.0</td>\n",
       "      <td>0.0</td>\n",
       "      <td>0.000</td>\n",
       "      <td>0.0</td>\n",
       "      <td>4.0</td>\n",
       "      <td>0.0</td>\n",
       "      <td>...</td>\n",
       "      <td>0.0</td>\n",
       "      <td>18.16</td>\n",
       "      <td>42.358550</td>\n",
       "      <td>-71.064780</td>\n",
       "      <td>3.0</td>\n",
       "      <td>2.0</td>\n",
       "      <td>1425.0</td>\n",
       "      <td>132.386775</td>\n",
       "      <td>4250.0</td>\n",
       "      <td>0.0</td>\n",
       "    </tr>\n",
       "    <tr>\n",
       "      <th>1</th>\n",
       "      <td>173725104.0</td>\n",
       "      <td>0.0</td>\n",
       "      <td>0.0</td>\n",
       "      <td>0.0</td>\n",
       "      <td>0.0</td>\n",
       "      <td>0.0</td>\n",
       "      <td>0.000</td>\n",
       "      <td>0.0</td>\n",
       "      <td>14.0</td>\n",
       "      <td>0.0</td>\n",
       "      <td>...</td>\n",
       "      <td>0.0</td>\n",
       "      <td>27.81</td>\n",
       "      <td>42.356533</td>\n",
       "      <td>-71.070305</td>\n",
       "      <td>3.0</td>\n",
       "      <td>3.5</td>\n",
       "      <td>2500.0</td>\n",
       "      <td>232.257500</td>\n",
       "      <td>9500.0</td>\n",
       "      <td>0.0</td>\n",
       "    </tr>\n",
       "    <tr>\n",
       "      <th>2</th>\n",
       "      <td>243090896.0</td>\n",
       "      <td>0.0</td>\n",
       "      <td>0.0</td>\n",
       "      <td>0.0</td>\n",
       "      <td>0.0</td>\n",
       "      <td>0.0</td>\n",
       "      <td>0.000</td>\n",
       "      <td>0.0</td>\n",
       "      <td>19.0</td>\n",
       "      <td>0.0</td>\n",
       "      <td>...</td>\n",
       "      <td>0.0</td>\n",
       "      <td>0.00</td>\n",
       "      <td>42.355400</td>\n",
       "      <td>-71.061510</td>\n",
       "      <td>2.0</td>\n",
       "      <td>2.5</td>\n",
       "      <td>2250.0</td>\n",
       "      <td>209.031750</td>\n",
       "      <td>8500.0</td>\n",
       "      <td>0.0</td>\n",
       "    </tr>\n",
       "    <tr>\n",
       "      <th>3</th>\n",
       "      <td>216929815.0</td>\n",
       "      <td>0.0</td>\n",
       "      <td>0.0</td>\n",
       "      <td>0.0</td>\n",
       "      <td>0.0</td>\n",
       "      <td>0.0</td>\n",
       "      <td>0.804</td>\n",
       "      <td>0.0</td>\n",
       "      <td>35.0</td>\n",
       "      <td>0.0</td>\n",
       "      <td>...</td>\n",
       "      <td>0.0</td>\n",
       "      <td>24.04</td>\n",
       "      <td>42.356464</td>\n",
       "      <td>-71.061760</td>\n",
       "      <td>4.0</td>\n",
       "      <td>2.0</td>\n",
       "      <td>1325.0</td>\n",
       "      <td>123.096475</td>\n",
       "      <td>7200.0</td>\n",
       "      <td>0.0</td>\n",
       "    </tr>\n",
       "    <tr>\n",
       "      <th>4</th>\n",
       "      <td>216929815.0</td>\n",
       "      <td>0.0</td>\n",
       "      <td>0.0</td>\n",
       "      <td>0.0</td>\n",
       "      <td>0.0</td>\n",
       "      <td>0.0</td>\n",
       "      <td>0.804</td>\n",
       "      <td>0.0</td>\n",
       "      <td>35.0</td>\n",
       "      <td>0.0</td>\n",
       "      <td>...</td>\n",
       "      <td>0.0</td>\n",
       "      <td>24.04</td>\n",
       "      <td>42.356464</td>\n",
       "      <td>-71.061760</td>\n",
       "      <td>2.0</td>\n",
       "      <td>1.0</td>\n",
       "      <td>750.0</td>\n",
       "      <td>69.677250</td>\n",
       "      <td>3800.0</td>\n",
       "      <td>0.0</td>\n",
       "    </tr>\n",
       "  </tbody>\n",
       "</table>\n",
       "<p>5 rows × 39 columns</p>\n",
       "</div>"
      ],
      "text/plain": [
       "   propertiesAsses  pixelSea  numCraigslistHouse  pixelRiver  pixelBus  \\\n",
       "0      142585895.0       0.0                 0.0         0.0       0.0   \n",
       "1      173725104.0       0.0                 0.0         0.0       0.0   \n",
       "2      243090896.0       0.0                 0.0         0.0       0.0   \n",
       "3      216929815.0       0.0                 0.0         0.0       0.0   \n",
       "4      216929815.0       0.0                 0.0         0.0       0.0   \n",
       "\n",
       "   pixelCeiling  pixelPath  pixelBuilding  crime  pixelFence     ...      \\\n",
       "0           0.0      0.000            0.0    4.0         0.0     ...       \n",
       "1           0.0      0.000            0.0   14.0         0.0     ...       \n",
       "2           0.0      0.000            0.0   19.0         0.0     ...       \n",
       "3           0.0      0.804            0.0   35.0         0.0     ...       \n",
       "4           0.0      0.804            0.0   35.0         0.0     ...       \n",
       "\n",
       "   numCraigslistRoom  pixelSky   Latitude  Longitude  RoomType  Bathrooms  \\\n",
       "0                0.0     18.16  42.358550 -71.064780       3.0        2.0   \n",
       "1                0.0     27.81  42.356533 -71.070305       3.0        3.5   \n",
       "2                0.0      0.00  42.355400 -71.061510       2.0        2.5   \n",
       "3                0.0     24.04  42.356464 -71.061760       4.0        2.0   \n",
       "4                0.0     24.04  42.356464 -71.061760       2.0        1.0   \n",
       "\n",
       "     SQFT         SQM   Price  pixelWater  \n",
       "0  1425.0  132.386775  4250.0         0.0  \n",
       "1  2500.0  232.257500  9500.0         0.0  \n",
       "2  2250.0  209.031750  8500.0         0.0  \n",
       "3  1325.0  123.096475  7200.0         0.0  \n",
       "4   750.0   69.677250  3800.0         0.0  \n",
       "\n",
       "[5 rows x 39 columns]"
      ]
     },
     "execution_count": 34,
     "metadata": {},
     "output_type": "execute_result"
    }
   ],
   "source": [
    "df_iloc.head()"
   ]
  },
  {
   "cell_type": "code",
   "execution_count": 35,
   "metadata": {
    "collapsed": false
   },
   "outputs": [],
   "source": [
    "df_iloc.rename(columns={'pixelWater':'datawater'}, inplace=True)"
   ]
  },
  {
   "cell_type": "code",
   "execution_count": 36,
   "metadata": {
    "collapsed": false
   },
   "outputs": [
    {
     "data": {
      "text/html": [
       "<div>\n",
       "<table border=\"1\" class=\"dataframe\">\n",
       "  <thead>\n",
       "    <tr style=\"text-align: right;\">\n",
       "      <th></th>\n",
       "      <th>propertiesAsses</th>\n",
       "      <th>pixelSea</th>\n",
       "      <th>numCraigslistHouse</th>\n",
       "      <th>pixelRiver</th>\n",
       "      <th>pixelBus</th>\n",
       "      <th>pixelCeiling</th>\n",
       "      <th>pixelPath</th>\n",
       "      <th>pixelBuilding</th>\n",
       "      <th>crime</th>\n",
       "      <th>pixelFence</th>\n",
       "      <th>...</th>\n",
       "      <th>numCraigslistRoom</th>\n",
       "      <th>pixelSky</th>\n",
       "      <th>Latitude</th>\n",
       "      <th>Longitude</th>\n",
       "      <th>RoomType</th>\n",
       "      <th>Bathrooms</th>\n",
       "      <th>SQFT</th>\n",
       "      <th>SQM</th>\n",
       "      <th>Price</th>\n",
       "      <th>datawater</th>\n",
       "    </tr>\n",
       "  </thead>\n",
       "  <tbody>\n",
       "    <tr>\n",
       "      <th>0</th>\n",
       "      <td>142585895.0</td>\n",
       "      <td>0.0</td>\n",
       "      <td>0.0</td>\n",
       "      <td>0.0</td>\n",
       "      <td>0.0</td>\n",
       "      <td>0.0</td>\n",
       "      <td>0.000</td>\n",
       "      <td>0.0</td>\n",
       "      <td>4.0</td>\n",
       "      <td>0.0</td>\n",
       "      <td>...</td>\n",
       "      <td>0.0</td>\n",
       "      <td>18.16</td>\n",
       "      <td>42.358550</td>\n",
       "      <td>-71.064780</td>\n",
       "      <td>3.0</td>\n",
       "      <td>2.0</td>\n",
       "      <td>1425.0</td>\n",
       "      <td>132.386775</td>\n",
       "      <td>4250.0</td>\n",
       "      <td>0.0</td>\n",
       "    </tr>\n",
       "    <tr>\n",
       "      <th>1</th>\n",
       "      <td>173725104.0</td>\n",
       "      <td>0.0</td>\n",
       "      <td>0.0</td>\n",
       "      <td>0.0</td>\n",
       "      <td>0.0</td>\n",
       "      <td>0.0</td>\n",
       "      <td>0.000</td>\n",
       "      <td>0.0</td>\n",
       "      <td>14.0</td>\n",
       "      <td>0.0</td>\n",
       "      <td>...</td>\n",
       "      <td>0.0</td>\n",
       "      <td>27.81</td>\n",
       "      <td>42.356533</td>\n",
       "      <td>-71.070305</td>\n",
       "      <td>3.0</td>\n",
       "      <td>3.5</td>\n",
       "      <td>2500.0</td>\n",
       "      <td>232.257500</td>\n",
       "      <td>9500.0</td>\n",
       "      <td>0.0</td>\n",
       "    </tr>\n",
       "    <tr>\n",
       "      <th>2</th>\n",
       "      <td>243090896.0</td>\n",
       "      <td>0.0</td>\n",
       "      <td>0.0</td>\n",
       "      <td>0.0</td>\n",
       "      <td>0.0</td>\n",
       "      <td>0.0</td>\n",
       "      <td>0.000</td>\n",
       "      <td>0.0</td>\n",
       "      <td>19.0</td>\n",
       "      <td>0.0</td>\n",
       "      <td>...</td>\n",
       "      <td>0.0</td>\n",
       "      <td>0.00</td>\n",
       "      <td>42.355400</td>\n",
       "      <td>-71.061510</td>\n",
       "      <td>2.0</td>\n",
       "      <td>2.5</td>\n",
       "      <td>2250.0</td>\n",
       "      <td>209.031750</td>\n",
       "      <td>8500.0</td>\n",
       "      <td>0.0</td>\n",
       "    </tr>\n",
       "    <tr>\n",
       "      <th>3</th>\n",
       "      <td>216929815.0</td>\n",
       "      <td>0.0</td>\n",
       "      <td>0.0</td>\n",
       "      <td>0.0</td>\n",
       "      <td>0.0</td>\n",
       "      <td>0.0</td>\n",
       "      <td>0.804</td>\n",
       "      <td>0.0</td>\n",
       "      <td>35.0</td>\n",
       "      <td>0.0</td>\n",
       "      <td>...</td>\n",
       "      <td>0.0</td>\n",
       "      <td>24.04</td>\n",
       "      <td>42.356464</td>\n",
       "      <td>-71.061760</td>\n",
       "      <td>4.0</td>\n",
       "      <td>2.0</td>\n",
       "      <td>1325.0</td>\n",
       "      <td>123.096475</td>\n",
       "      <td>7200.0</td>\n",
       "      <td>0.0</td>\n",
       "    </tr>\n",
       "    <tr>\n",
       "      <th>4</th>\n",
       "      <td>216929815.0</td>\n",
       "      <td>0.0</td>\n",
       "      <td>0.0</td>\n",
       "      <td>0.0</td>\n",
       "      <td>0.0</td>\n",
       "      <td>0.0</td>\n",
       "      <td>0.804</td>\n",
       "      <td>0.0</td>\n",
       "      <td>35.0</td>\n",
       "      <td>0.0</td>\n",
       "      <td>...</td>\n",
       "      <td>0.0</td>\n",
       "      <td>24.04</td>\n",
       "      <td>42.356464</td>\n",
       "      <td>-71.061760</td>\n",
       "      <td>2.0</td>\n",
       "      <td>1.0</td>\n",
       "      <td>750.0</td>\n",
       "      <td>69.677250</td>\n",
       "      <td>3800.0</td>\n",
       "      <td>0.0</td>\n",
       "    </tr>\n",
       "  </tbody>\n",
       "</table>\n",
       "<p>5 rows × 39 columns</p>\n",
       "</div>"
      ],
      "text/plain": [
       "   propertiesAsses  pixelSea  numCraigslistHouse  pixelRiver  pixelBus  \\\n",
       "0      142585895.0       0.0                 0.0         0.0       0.0   \n",
       "1      173725104.0       0.0                 0.0         0.0       0.0   \n",
       "2      243090896.0       0.0                 0.0         0.0       0.0   \n",
       "3      216929815.0       0.0                 0.0         0.0       0.0   \n",
       "4      216929815.0       0.0                 0.0         0.0       0.0   \n",
       "\n",
       "   pixelCeiling  pixelPath  pixelBuilding  crime  pixelFence    ...      \\\n",
       "0           0.0      0.000            0.0    4.0         0.0    ...       \n",
       "1           0.0      0.000            0.0   14.0         0.0    ...       \n",
       "2           0.0      0.000            0.0   19.0         0.0    ...       \n",
       "3           0.0      0.804            0.0   35.0         0.0    ...       \n",
       "4           0.0      0.804            0.0   35.0         0.0    ...       \n",
       "\n",
       "   numCraigslistRoom  pixelSky   Latitude  Longitude  RoomType  Bathrooms  \\\n",
       "0                0.0     18.16  42.358550 -71.064780       3.0        2.0   \n",
       "1                0.0     27.81  42.356533 -71.070305       3.0        3.5   \n",
       "2                0.0      0.00  42.355400 -71.061510       2.0        2.5   \n",
       "3                0.0     24.04  42.356464 -71.061760       4.0        2.0   \n",
       "4                0.0     24.04  42.356464 -71.061760       2.0        1.0   \n",
       "\n",
       "     SQFT         SQM   Price  datawater  \n",
       "0  1425.0  132.386775  4250.0        0.0  \n",
       "1  2500.0  232.257500  9500.0        0.0  \n",
       "2  2250.0  209.031750  8500.0        0.0  \n",
       "3  1325.0  123.096475  7200.0        0.0  \n",
       "4   750.0   69.677250  3800.0        0.0  \n",
       "\n",
       "[5 rows x 39 columns]"
      ]
     },
     "execution_count": 36,
     "metadata": {},
     "output_type": "execute_result"
    }
   ],
   "source": [
    "df_iloc.head()"
   ]
  },
  {
   "cell_type": "code",
   "execution_count": 37,
   "metadata": {
    "collapsed": false
   },
   "outputs": [
    {
     "data": {
      "text/html": [
       "<div>\n",
       "<table border=\"1\" class=\"dataframe\">\n",
       "  <thead>\n",
       "    <tr style=\"text-align: right;\">\n",
       "      <th></th>\n",
       "      <th>Latitude</th>\n",
       "      <th>Longitude</th>\n",
       "      <th>crime</th>\n",
       "      <th>Bathrooms</th>\n",
       "      <th>SQFT</th>\n",
       "      <th>Price</th>\n",
       "      <th>energySiteEUI</th>\n",
       "    </tr>\n",
       "  </thead>\n",
       "  <tbody>\n",
       "    <tr>\n",
       "      <th>0</th>\n",
       "      <td>42.358550</td>\n",
       "      <td>-71.064780</td>\n",
       "      <td>4.0</td>\n",
       "      <td>2.0</td>\n",
       "      <td>1425.0</td>\n",
       "      <td>4250.0</td>\n",
       "      <td>0.0</td>\n",
       "    </tr>\n",
       "    <tr>\n",
       "      <th>1</th>\n",
       "      <td>42.356533</td>\n",
       "      <td>-71.070305</td>\n",
       "      <td>14.0</td>\n",
       "      <td>3.5</td>\n",
       "      <td>2500.0</td>\n",
       "      <td>9500.0</td>\n",
       "      <td>145.0</td>\n",
       "    </tr>\n",
       "    <tr>\n",
       "      <th>2</th>\n",
       "      <td>42.355400</td>\n",
       "      <td>-71.061510</td>\n",
       "      <td>19.0</td>\n",
       "      <td>2.5</td>\n",
       "      <td>2250.0</td>\n",
       "      <td>8500.0</td>\n",
       "      <td>263.7</td>\n",
       "    </tr>\n",
       "    <tr>\n",
       "      <th>3</th>\n",
       "      <td>42.356464</td>\n",
       "      <td>-71.061760</td>\n",
       "      <td>35.0</td>\n",
       "      <td>2.0</td>\n",
       "      <td>1325.0</td>\n",
       "      <td>7200.0</td>\n",
       "      <td>965.3</td>\n",
       "    </tr>\n",
       "    <tr>\n",
       "      <th>4</th>\n",
       "      <td>42.356464</td>\n",
       "      <td>-71.061760</td>\n",
       "      <td>35.0</td>\n",
       "      <td>1.0</td>\n",
       "      <td>750.0</td>\n",
       "      <td>3800.0</td>\n",
       "      <td>965.3</td>\n",
       "    </tr>\n",
       "  </tbody>\n",
       "</table>\n",
       "</div>"
      ],
      "text/plain": [
       "    Latitude  Longitude  crime  Bathrooms    SQFT   Price  energySiteEUI\n",
       "0  42.358550 -71.064780    4.0        2.0  1425.0  4250.0            0.0\n",
       "1  42.356533 -71.070305   14.0        3.5  2500.0  9500.0          145.0\n",
       "2  42.355400 -71.061510   19.0        2.5  2250.0  8500.0          263.7\n",
       "3  42.356464 -71.061760   35.0        2.0  1325.0  7200.0          965.3\n",
       "4  42.356464 -71.061760   35.0        1.0   750.0  3800.0          965.3"
      ]
     },
     "execution_count": 37,
     "metadata": {},
     "output_type": "execute_result"
    }
   ],
   "source": [
    "my_Names = ['Latitude','Longitude','crime','Bathrooms','SQFT','Price','energySiteEUI']\n",
    "\n",
    "datacon = df_iloc[my_Names]\n",
    "datacon.head()"
   ]
  },
  {
   "cell_type": "code",
   "execution_count": 39,
   "metadata": {
    "collapsed": false
   },
   "outputs": [
    {
     "data": {
      "text/plain": [
       "count    10000.000000\n",
       "mean        89.887831\n",
       "std        187.041881\n",
       "min          0.000000\n",
       "25%          0.000000\n",
       "50%          0.000000\n",
       "75%        108.100000\n",
       "max       1827.400000\n",
       "Name: energySiteEUI, dtype: float64"
      ]
     },
     "execution_count": 39,
     "metadata": {},
     "output_type": "execute_result"
    }
   ],
   "source": [
    "datacon['energySiteEUI'].describe()"
   ]
  },
  {
   "cell_type": "markdown",
   "metadata": {},
   "source": [
    "# Visualizing data"
   ]
  },
  {
   "cell_type": "code",
   "execution_count": null,
   "metadata": {
    "collapsed": false
   },
   "outputs": [],
   "source": [
    "# energy = datacon['energySiteEUI']\n",
    "# temp = energy.values\n",
    "# plt.hist(temp,bins=50)\n",
    "# plt.show()"
   ]
  },
  {
   "cell_type": "code",
   "execution_count": 40,
   "metadata": {
    "collapsed": false
   },
   "outputs": [
    {
     "data": {
      "image/png": "[encoded data removed]",
      "text/plain": [
       "<matplotlib.figure.Figure at 0xcabd1d0>"
      ]
     },
     "metadata": {},
     "output_type": "display_data"
    }
   ],
   "source": [
    "energy = datacon['energySiteEUI'].values\n",
    "\n",
    "plt.hist(energy,bins =50)\n",
    "plt.show()\n"
   ]
  },
  {
   "cell_type": "code",
   "execution_count": null,
   "metadata": {
    "collapsed": false
   },
   "outputs": [],
   "source": [
    "## Delete rows with zeros \n",
    "# dataNoZero = datacon[(datacon['energySiteEUI']==0) == False]\n",
    "# dataNoZero.shape"
   ]
  },
  {
   "cell_type": "code",
   "execution_count": 41,
   "metadata": {
    "collapsed": true
   },
   "outputs": [],
   "source": [
    "dataNoZero = datacon[(datacon['energySiteEUI']==0) == False]"
   ]
  },
  {
   "cell_type": "code",
   "execution_count": 42,
   "metadata": {
    "collapsed": false
   },
   "outputs": [
    {
     "data": {
      "text/plain": [
       "(4429, 7)"
      ]
     },
     "execution_count": 42,
     "metadata": {},
     "output_type": "execute_result"
    }
   ],
   "source": [
    "dataNoZero.shape"
   ]
  },
  {
   "cell_type": "code",
   "execution_count": 44,
   "metadata": {
    "collapsed": false
   },
   "outputs": [
    {
     "data": {
      "image/png": "[encoded data removed]",
      "text/plain": [
       "<matplotlib.figure.Figure at 0xfdd4898>"
      ]
     },
     "metadata": {},
     "output_type": "display_data"
    }
   ],
   "source": [
    "energy = dataNoZero['energySiteEUI']\n",
    "temp = energy.values\n",
    "plt.hist(temp,bins=50)\n",
    "plt.show()"
   ]
  },
  {
   "cell_type": "code",
   "execution_count": 45,
   "metadata": {
    "collapsed": false
   },
   "outputs": [
    {
     "data": {
      "image/png": "[encoded data removed]",
      "text/plain": [
       "<matplotlib.figure.Figure at 0xfc38b70>"
      ]
     },
     "metadata": {},
     "output_type": "display_data"
    }
   ],
   "source": [
    "## Delete rows with Outliers \n",
    "\n",
    "dataNoOutliers = dataNoZero[(dataNoZero['energySiteEUI']>1000) == False]\n",
    "\n",
    "energy = dataNoOutliers['energySiteEUI']\n",
    "temp = energy.values\n",
    "plt.hist(temp,bins=50)\n",
    "plt.show()"
   ]
  },
  {
   "cell_type": "code",
   "execution_count": 46,
   "metadata": {
    "collapsed": false
   },
   "outputs": [
    {
     "data": {
      "text/plain": [
       "count    4381.000000\n",
       "mean      187.377131\n",
       "std       183.744932\n",
       "min         1.900000\n",
       "25%        68.800000\n",
       "50%       130.900000\n",
       "75%       250.000000\n",
       "max       965.300000\n",
       "Name: energySiteEUI, dtype: float64"
      ]
     },
     "execution_count": 46,
     "metadata": {},
     "output_type": "execute_result"
    }
   ],
   "source": [
    "dataNoOutliers['energySiteEUI'].describe()"
   ]
  },
  {
   "cell_type": "code",
   "execution_count": 47,
   "metadata": {
    "collapsed": false
   },
   "outputs": [
    {
     "name": "stderr",
     "output_type": "stream",
     "text": [
      "C:\\Users\\EllieHan\\Anaconda2\\lib\\site-packages\\matplotlib\\axes\\_axes.py:531: UserWarning: No labelled objects found. Use label='...' kwarg on individual plots.\n",
      "  warnings.warn(\"No labelled objects found. \"\n"
     ]
    },
    {
     "data": {
      "image/png": "[encoded data removed]",
      "text/plain": [
       "<matplotlib.figure.Figure at 0xd225390>"
      ]
     },
     "metadata": {},
     "output_type": "display_data"
    }
   ],
   "source": [
    "y = energy.values\n",
    "plt.hist(y,bins = 50,color=\"#FFBBBB\")\n",
    "plt.axvline(68.800000,c=\"green\")\n",
    "plt.axvline(130.900000,c=\"red\")\n",
    "plt.axvline(250.000000,c=\"green\")\n",
    "plt.xlabel(\"energyEUI\")\n",
    "plt.ylabel(\"Frequency\")\n",
    "plt.xlim(0, 1000)\n",
    "plt.legend()\n",
    "plt.show()"
   ]
  },
  {
   "cell_type": "code",
   "execution_count": 48,
   "metadata": {
    "collapsed": false
   },
   "outputs": [
    {
     "data": {
      "image/png": "[encoded data removed]",
      "text/plain": [
       "<matplotlib.figure.Figure at 0xd3c50f0>"
      ]
     },
     "metadata": {},
     "output_type": "display_data"
    }
   ],
   "source": [
    "from mpl_toolkits.mplot3d import Axes3D\n",
    "import matplotlib.cm as cmx\n",
    "import matplotlib.colors as colors\n",
    "\n",
    "fig = plt.figure(figsize=(35,10))\n",
    "\n",
    "#Project onto axes: 1, 2, 3\n",
    "ax1 = fig.add_subplot(1, 3, 1,  projection='3d')\n",
    "\n",
    "newData = pd.DataFrame()\n",
    "newData['Longitude'] = dataNoOutliers['Longitude']\n",
    "newData['Latitude'] = dataNoOutliers['Latitude']\n",
    "newData['y'] = y\n",
    "\n",
    "newData1 = newData[newData['y']<68.8]\n",
    "newData2 = newData[(newData['y']>68.8 )&(newData['y']<250)]\n",
    "newData3 = newData[250<newData['y']]\n",
    "\n",
    "\n",
    "ax1.scatter(newData1['Longitude'], newData1['Latitude'],newData1['y'], label='Low' , facecolors = \"gray\",edgecolors = \"blue\",alpha = 0.5, s=18)\n",
    "ax1.scatter(newData2['Longitude'], newData2['Latitude'],newData2['y'], label='Mid' , facecolors = \"#FFBBBB\",edgecolors = \"green\",alpha = 0.5, s=18)\n",
    "ax1.scatter(newData3['Longitude'], newData3['Latitude'],newData3['y'], label='High' , facecolors = \"gray\",edgecolors = \"red\",alpha = 0.5, s=18)\n",
    "\n",
    "\n",
    "ax1.set_xlabel('\\n'+'\\n' + 'Longitude')\n",
    "ax1.set_ylabel('\\n'+'\\n' +'Latitude')\n",
    "ax1.set_zlabel('\\n'+'\\n' +'Energy')\n",
    "ax1.set_title('Boston Energy use By Longitude & Latitude')\n",
    "ax1.legend(loc='lower left')\n",
    "\n",
    "plt.tight_layout()\n",
    "plt.show()"
   ]
  },
  {
   "cell_type": "code",
   "execution_count": 49,
   "metadata": {
    "collapsed": true
   },
   "outputs": [],
   "source": [
    "def SavePandasToCSV(d, path):\n",
    "    d.to_csv(path)\n",
    "    return \"done!!\""
   ]
  },
  {
   "cell_type": "code",
   "execution_count": 50,
   "metadata": {
    "collapsed": false
   },
   "outputs": [
    {
     "data": {
      "text/plain": [
       "'done!!'"
      ]
     },
     "execution_count": 50,
     "metadata": {},
     "output_type": "execute_result"
    }
   ],
   "source": [
    "SavePandasToCSV(dataNoOutliers, \"energy.csv\")"
   ]
  },
  {
   "cell_type": "code",
   "execution_count": null,
   "metadata": {
    "collapsed": true
   },
   "outputs": [],
   "source": []
  }
 ],
 "metadata": {
  "kernelspec": {
   "display_name": "Python 2",
   "language": "python",
   "name": "python2"
  },
  "language_info": {
   "codemirror_mode": {
    "name": "ipython",
    "version": 2
   },
   "file_extension": ".py",
   "mimetype": "text/x-python",
   "name": "python",
   "nbconvert_exporter": "python",
   "pygments_lexer": "ipython2",
   "version": "2.7.11"
  }
 },
 "nbformat": 4,
 "nbformat_minor": 1
}
