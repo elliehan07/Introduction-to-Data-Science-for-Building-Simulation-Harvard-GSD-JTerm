{
 "cells": [
  {
   "cell_type": "markdown",
   "metadata": {},
   "source": [
    "### J-Term 2017, Harvard GSD :\n",
    "### Introduction to Data Science for Building Simulation\n",
    "***\n",
    "Instructor: Jung Min Han, elliehan07@gmail.com <br>\n",
    "Teaching Assistant: NJ Namju Lee, nj.namju@gmail.com <br>\n",
    "Date/Time: Jan 9-12/ 1:00 - 3:00 p.m. <br>\n",
    "Location: 20 Sumner/Room 1-D<br>\n",
    "***"
   ]
  },
  {
   "cell_type": "code",
   "execution_count": null,
   "metadata": {
    "collapsed": false
   },
   "outputs": [],
   "source": [
    "from pandas import *\n",
    "import pandas as pd\n",
    "import numpy as np"
   ]
  },
  {
   "cell_type": "markdown",
   "metadata": {},
   "source": [
    "Pandas Series Object: 1 dimensional data container\n",
    "======\n",
    "\n",
    "This object is a data container for vectors -- incorporating an index and string search functions"
   ]
  },
  {
   "cell_type": "code",
   "execution_count": null,
   "metadata": {
    "collapsed": false
   },
   "outputs": [],
   "source": [
    "s = Series(np.random.randn(5))\n",
    "s"
   ]
  },
  {
   "cell_type": "code",
   "execution_count": null,
   "metadata": {
    "collapsed": false
   },
   "outputs": [],
   "source": [
    "labels = ['a', 'b', 'c', 'd', 'e']\n",
    "s = Series(np.random.randn(5), index = labels)\n",
    "s"
   ]
  },
  {
   "cell_type": "code",
   "execution_count": null,
   "metadata": {
    "collapsed": false
   },
   "outputs": [],
   "source": [
    "'b' in s"
   ]
  },
  {
   "cell_type": "code",
   "execution_count": null,
   "metadata": {
    "collapsed": false
   },
   "outputs": [],
   "source": [
    "s['b']"
   ]
  },
  {
   "cell_type": "code",
   "execution_count": null,
   "metadata": {
    "collapsed": false
   },
   "outputs": [],
   "source": [
    "s"
   ]
  },
  {
   "cell_type": "code",
   "execution_count": null,
   "metadata": {
    "collapsed": false
   },
   "outputs": [],
   "source": [
    "mapping = s.to_dict()\n",
    "mapping"
   ]
  },
  {
   "cell_type": "markdown",
   "metadata": {},
   "source": [
    "DataFrame: 2D collection of Series\n",
    "=================================="
   ]
  },
  {
   "cell_type": "code",
   "execution_count": null,
   "metadata": {
    "collapsed": false
   },
   "outputs": [],
   "source": [
    "df = DataFrame({'a': np.random.randn(6),\n",
    "                'b': ['foo', 'bar'] * 3,\n",
    "                'c': np.random.randn(6)})\n",
    "df.shape"
   ]
  },
  {
   "cell_type": "code",
   "execution_count": null,
   "metadata": {
    "collapsed": false
   },
   "outputs": [],
   "source": [
    "df.index"
   ]
  },
  {
   "cell_type": "code",
   "execution_count": null,
   "metadata": {
    "collapsed": false
   },
   "outputs": [],
   "source": [
    "df"
   ]
  },
  {
   "cell_type": "code",
   "execution_count": null,
   "metadata": {
    "collapsed": false
   },
   "outputs": [],
   "source": [
    "# df = DataFrame({'a': np.random.randn(6),\n",
    "#                 'b': ['foo', 'bar'] * 3,\n",
    "#                 'c': np.random.randn(6)},\n",
    "#                index = date_range('1/1/2000', periods=6))\n",
    "# df"
   ]
  },
  {
   "cell_type": "code",
   "execution_count": null,
   "metadata": {
    "collapsed": true
   },
   "outputs": [],
   "source": [
    "# df = DataFrame({'a': np.random.randn(6),\n",
    "#                 'b': ['foo', 'bar'] * 3,\n",
    "#                 'c': np.random.randn(6)},\n",
    "#                columns=['a', 'b', 'c', 'd'])\n",
    "# df"
   ]
  },
  {
   "cell_type": "markdown",
   "metadata": {},
   "source": [
    "# List Comprehension\n"
   ]
  },
  {
   "cell_type": "code",
   "execution_count": null,
   "metadata": {
    "collapsed": false
   },
   "outputs": [],
   "source": [
    "d = [0,1,2,3,4,5]\n",
    "for i in range(len(d)):\n",
    "    d[i]+=2\n",
    "print(d)"
   ]
  },
  {
   "cell_type": "code",
   "execution_count": null,
   "metadata": {
    "collapsed": false
   },
   "outputs": [],
   "source": [
    "d = [0,1,2,3,4,5]\n",
    "d = [i + 2 for i in d]\n",
    "print d"
   ]
  },
  {
   "cell_type": "code",
   "execution_count": null,
   "metadata": {
    "collapsed": false
   },
   "outputs": [],
   "source": [
    "d = [0,1,2,3,4,5]\n",
    "d = [i < 3 for i in d]\n",
    "print d"
   ]
  },
  {
   "cell_type": "code",
   "execution_count": null,
   "metadata": {
    "collapsed": false
   },
   "outputs": [],
   "source": [
    "d = [0,1,2,3,4,5]\n",
    "d = [i < 3 for i in d]\n",
    "d = [i for i in d if i % 2 == 0]\n",
    "print d"
   ]
  },
  {
   "cell_type": "code",
   "execution_count": null,
   "metadata": {
    "collapsed": false
   },
   "outputs": [],
   "source": [
    "words = \"Hello world and GSD\"\n",
    "words = words.split(\" \")\n",
    "stuff = [[d.upper(), d.lower(), len(d)] for d in words]\n",
    "print stuff"
   ]
  },
  {
   "cell_type": "markdown",
   "metadata": {},
   "source": [
    "# IDF Editor"
   ]
  },
  {
   "cell_type": "markdown",
   "metadata": {},
   "source": [
    "Credit : Authors: Santosh Philip, Leora Tanjuatco\n",
    "###Eppy is a scripting language for E+ idf files, and E+ output files. Eppy is written in the programming language Python. \n",
    "\n",
    "As a result it takes full advantage of the rich data structure and idioms that are avaliable in python. You can programmatically navigate, search, and modify E+ idf files using eppy. The power of using a scripting language allows you to do the following:\n",
    "\n",
    "- Make a large number of changes in an idf file with a few lines of eppy code.\n",
    "- Use conditions and filters when making changes to an idf file\n",
    "- Make changes to multiple idf files.\n",
    "- Read data from the output files of a E+ simulation run.\n",
    "- Based to the results of a E+ simulation run, generate the input file for the next simulation run.\n",
    "\n",
    "###So what does this matter? Here are some of the things you can do with eppy:\n",
    "\n",
    "- Change construction for all north facing walls.\n",
    "- Change the glass type for all windows larger than 2 square meters.\n",
    "- Change the number of people in all the interior zones.\n",
    "- Change the lighting power in all south facing zones. \n",
    "- Change the efficiency and fan power of all rooftop units.\n",
    "- Find the energy use of all the models in a folder (or of models that were run after a certain date) \n",
    "- If a model is using more energy than expected, keep increasing the R-value of the roof until you get to the expected energy use."
   ]
  },
  {
   "cell_type": "code",
   "execution_count": null,
   "metadata": {
    "collapsed": true
   },
   "outputs": [],
   "source": [
    "# pip install eppy\n",
    "from eppy import modeleditor \n",
    "from eppy.modeleditor import IDF"
   ]
  },
  {
   "cell_type": "code",
   "execution_count": null,
   "metadata": {
    "collapsed": false
   },
   "outputs": [],
   "source": [
    "IDF.setiddname(\"Energy+V7_2_0.idd\")\n",
    "idf = IDF(\"smallidf.idf\")"
   ]
  },
  {
   "cell_type": "code",
   "execution_count": null,
   "metadata": {
    "collapsed": false
   },
   "outputs": [],
   "source": [
    "idf.printidf()"
   ]
  },
  {
   "cell_type": "code",
   "execution_count": null,
   "metadata": {
    "collapsed": false
   },
   "outputs": [],
   "source": [
    "idf.idfobjects['BUILDING']  # put the name of the object you'd like to look at in brackets"
   ]
  },
  {
   "cell_type": "code",
   "execution_count": null,
   "metadata": {
    "collapsed": true
   },
   "outputs": [],
   "source": [
    "building = idf.idfobjects['BUILDING'][0]"
   ]
  },
  {
   "cell_type": "code",
   "execution_count": null,
   "metadata": {
    "collapsed": false
   },
   "outputs": [],
   "source": [
    "print building.Name\n",
    "print building.North_Axis\n",
    "print building.Terrain\n",
    "print building.Loads_Convergence_Tolerance_Value\n",
    "print building.Temperature_Convergence_Tolerance_Value\n",
    "print building.Solar_Distribution\n",
    "print building.Maximum_Number_of_Warmup_Days\n",
    "print building.Minimum_Number_of_Warmup_Days"
   ]
  },
  {
   "cell_type": "code",
   "execution_count": null,
   "metadata": {
    "collapsed": true
   },
   "outputs": [],
   "source": [
    "idf_con = IDF(\"constructions.idf\")"
   ]
  },
  {
   "cell_type": "code",
   "execution_count": null,
   "metadata": {
    "collapsed": false
   },
   "outputs": [],
   "source": [
    "idf_con.idfobjects"
   ]
  },
  {
   "cell_type": "code",
   "execution_count": null,
   "metadata": {
    "collapsed": false
   },
   "outputs": [],
   "source": [
    "materials = idf_con.idfobjects[\"MATERIAL\"]\n",
    "print materials"
   ]
  },
  {
   "cell_type": "code",
   "execution_count": null,
   "metadata": {
    "collapsed": false
   },
   "outputs": [],
   "source": [
    "len(materials)"
   ]
  },
  {
   "cell_type": "code",
   "execution_count": null,
   "metadata": {
    "collapsed": true
   },
   "outputs": [],
   "source": [
    "firstmaterial = materials[0]\n",
    "secondmaterial = materials[1]"
   ]
  },
  {
   "cell_type": "code",
   "execution_count": null,
   "metadata": {
    "collapsed": false
   },
   "outputs": [],
   "source": [
    "firstmaterial"
   ]
  },
  {
   "cell_type": "code",
   "execution_count": null,
   "metadata": {
    "collapsed": false
   },
   "outputs": [],
   "source": [
    "materials[-1]"
   ]
  },
  {
   "cell_type": "code",
   "execution_count": null,
   "metadata": {
    "collapsed": true
   },
   "outputs": [],
   "source": [
    "# materials[-1].Name = 'My_material'\n",
    "# materials[-1].Roughness = 'MediumSmooth'\n",
    "# materials[-1].Thickness = 0.03\n",
    "# materials[-1].Conductivity = 0.16\n",
    "# materials[-1].Density = 600\n",
    "# materials[-1].Specific_Heat = 1500"
   ]
  },
  {
   "cell_type": "code",
   "execution_count": null,
   "metadata": {
    "collapsed": false
   },
   "outputs": [],
   "source": [
    "# materials[-1]"
   ]
  },
  {
   "cell_type": "markdown",
   "metadata": {},
   "source": [
    "## Looping through E+ objects"
   ]
  },
  {
   "cell_type": "code",
   "execution_count": null,
   "metadata": {
    "collapsed": false
   },
   "outputs": [],
   "source": [
    "for material in materials:\n",
    "    print material.Name "
   ]
  },
  {
   "cell_type": "code",
   "execution_count": null,
   "metadata": {
    "collapsed": false
   },
   "outputs": [],
   "source": [
    "[material.Name for material in materials] "
   ]
  },
  {
   "cell_type": "code",
   "execution_count": null,
   "metadata": {
    "collapsed": false
   },
   "outputs": [],
   "source": [
    "# [material.Roughness for material in materials]"
   ]
  },
  {
   "cell_type": "code",
   "execution_count": null,
   "metadata": {
    "collapsed": false
   },
   "outputs": [],
   "source": [
    "[material.Thickness for material in materials]"
   ]
  },
  {
   "cell_type": "code",
   "execution_count": null,
   "metadata": {
    "collapsed": false
   },
   "outputs": [],
   "source": [
    "[material.Thickness for material in materials if material.Thickness > 0.1]"
   ]
  },
  {
   "cell_type": "code",
   "execution_count": null,
   "metadata": {
    "collapsed": false
   },
   "outputs": [],
   "source": [
    "# [material.Name for material in materials if material.Thickness > 0.1]"
   ]
  },
  {
   "cell_type": "code",
   "execution_count": null,
   "metadata": {
    "collapsed": true
   },
   "outputs": [],
   "source": [
    "# thick_materials = [material for material in materials if material.Thickness > 0.1]"
   ]
  },
  {
   "cell_type": "code",
   "execution_count": null,
   "metadata": {
    "collapsed": false
   },
   "outputs": [],
   "source": [
    "# thick_materials"
   ]
  },
  {
   "cell_type": "code",
   "execution_count": null,
   "metadata": {
    "collapsed": false
   },
   "outputs": [],
   "source": [
    "# change the names of the thick materials\n",
    "for material in thick_materials:\n",
    "    material.Name = \"THICK \" + material.Name   "
   ]
  },
  {
   "cell_type": "code",
   "execution_count": null,
   "metadata": {
    "collapsed": false
   },
   "outputs": [],
   "source": [
    "thick_materials"
   ]
  },
  {
   "cell_type": "markdown",
   "metadata": {},
   "source": [
    "## Geometry functions in eppy"
   ]
  },
  {
   "cell_type": "code",
   "execution_count": null,
   "metadata": {
    "collapsed": true
   },
   "outputs": [],
   "source": [
    "idf_geo = IDF(\"5ZoneSupRetPlenRAB.idf\")\n",
    "surfaces = idf_geo.idfobjects['BUILDINGSURFACE:DETAILED']"
   ]
  },
  {
   "cell_type": "code",
   "execution_count": null,
   "metadata": {
    "collapsed": false
   },
   "outputs": [],
   "source": [
    "# Let us look at the first surface\n",
    "surface = surfaces[0]\n",
    "print \"surface azimuth =\",  surface.azimuth, \"degrees\"\n",
    "print \"surface tilt =\", surface.tilt, \"degrees\"\n",
    "print \"surface area =\", surface.area, \"m2\""
   ]
  },
  {
   "cell_type": "code",
   "execution_count": null,
   "metadata": {
    "collapsed": false
   },
   "outputs": [],
   "source": [
    "# all the surface names\n",
    "s_names = [surface.Name for surface in surfaces]\n",
    "# print s_names\n",
    "# print s_names[:5] # print five of them"
   ]
  },
  {
   "cell_type": "code",
   "execution_count": null,
   "metadata": {
    "collapsed": false
   },
   "outputs": [],
   "source": [
    "# surface names and azimuths\n",
    "s_names_azm = [(sf.Name, sf.azimuth) for sf in surfaces]\n",
    "print s_names_azm[:5] # print five of them"
   ]
  },
  {
   "cell_type": "code",
   "execution_count": null,
   "metadata": {
    "collapsed": false
   },
   "outputs": [],
   "source": [
    "# surface names and tilt\n",
    "s_names_tilt = [(sf.Name, sf.tilt) for sf in surfaces]\n",
    "\n",
    "for name, tilt in s_names_tilt: \n",
    "    print name, tilt"
   ]
  },
  {
   "cell_type": "code",
   "execution_count": null,
   "metadata": {
    "collapsed": false
   },
   "outputs": [],
   "source": [
    "# surface names and areas\n",
    "s_names_area = [(sf.Name, sf.area) for sf in surfaces]\n",
    "\n",
    "for name, area in s_names_area[:5]: # just five of them\n",
    "    print name, area, \"m2\""
   ]
  },
  {
   "cell_type": "markdown",
   "metadata": {},
   "source": [
    "##Selecting Walls"
   ]
  },
  {
   "cell_type": "code",
   "execution_count": null,
   "metadata": {
    "collapsed": false
   },
   "outputs": [],
   "source": [
    "# just vertical walls\n",
    "vertical_walls = [sf for sf in surfaces if sf.tilt == 90.0]\n",
    "print [sf.Name for sf in vertical_walls]"
   ]
  },
  {
   "cell_type": "code",
   "execution_count": null,
   "metadata": {
    "collapsed": false
   },
   "outputs": [],
   "source": [
    "# north facing walls\n",
    "north_walls = [sf for sf in vertical_walls if sf.azimuth == 0.0]\n",
    "print [sf.Name for sf in north_walls]"
   ]
  },
  {
   "cell_type": "code",
   "execution_count": null,
   "metadata": {
    "collapsed": false
   },
   "outputs": [],
   "source": [
    "# north facing exterior walls\n",
    "exterior_nwall = [sf for sf in north_walls if sf.Outside_Boundary_Condition == \"Outdoors\"]\n",
    "print [sf.Name for sf in exterior_nwall]"
   ]
  },
  {
   "cell_type": "code",
   "execution_count": null,
   "metadata": {
    "collapsed": false
   },
   "outputs": [],
   "source": [
    "# print out some more details of the north wall\n",
    "north_wall_info = [(sf.Name, sf.azimuth, sf.Construction_Name) for sf in exterior_nwall]\n",
    "for name, azimuth, construction in north_wall_info:\n",
    "    print name, azimuth, construction   "
   ]
  },
  {
   "cell_type": "code",
   "execution_count": null,
   "metadata": {
    "collapsed": true
   },
   "outputs": [],
   "source": [
    "# change the construction in the exterior north walls\n",
    "for wall in exterior_nwall:\n",
    "    wall.Construction_Name = \"NORTHERN-WALL\" # make sure such a construction exists in the model "
   ]
  },
  {
   "cell_type": "code",
   "execution_count": null,
   "metadata": {
    "collapsed": false
   },
   "outputs": [],
   "source": [
    "# see the change\n",
    "north_wall_info = [(sf.Name, sf.azimuth, sf.Construction_Name) for sf in exterior_nwall]\n",
    "for name, azimuth, construction in north_wall_info:\n",
    "    print name, azimuth, construction  "
   ]
  },
  {
   "cell_type": "code",
   "execution_count": null,
   "metadata": {
    "collapsed": false
   },
   "outputs": [],
   "source": [
    "# see this in all surfaces\n",
    "for sf in surfaces:\n",
    "    print sf.Name, sf.azimuth, sf.Construction_Name"
   ]
  },
  {
   "cell_type": "markdown",
   "metadata": {},
   "source": [
    "# Parametric Example"
   ]
  },
  {
   "cell_type": "code",
   "execution_count": null,
   "metadata": {
    "collapsed": false
   },
   "outputs": [],
   "source": [
    "IDF.setiddname(\"Energy+V7_2_0.idd\")\n",
    "idf1 = IDF(\"Baseline.idf\")"
   ]
  },
  {
   "cell_type": "code",
   "execution_count": null,
   "metadata": {
    "collapsed": false
   },
   "outputs": [],
   "source": [
    "idf1.printidf()"
   ]
  },
  {
   "cell_type": "code",
   "execution_count": null,
   "metadata": {
    "collapsed": false
   },
   "outputs": [],
   "source": [
    "idf1.idfobjects"
   ]
  },
  {
   "cell_type": "code",
   "execution_count": null,
   "metadata": {
    "collapsed": false
   },
   "outputs": [],
   "source": [
    "glazing = idf1.idfobjects['WINDOWMATERIAL:SIMPLEGLAZINGSYSTEM'][0]"
   ]
  },
  {
   "cell_type": "code",
   "execution_count": null,
   "metadata": {
    "collapsed": false
   },
   "outputs": [],
   "source": [
    "glazing"
   ]
  },
  {
   "cell_type": "code",
   "execution_count": null,
   "metadata": {
    "collapsed": false
   },
   "outputs": [],
   "source": [
    "print glazing.UFactor\n",
    "print glazing.Solar_Heat_Gain_Coefficient\n",
    "print glazing.Visible_Transmittance"
   ]
  },
  {
   "cell_type": "code",
   "execution_count": null,
   "metadata": {
    "collapsed": true
   },
   "outputs": [],
   "source": [
    "# glazing.UFactor = \"=$U_Factor\"\n",
    "# glazing.Solar_Heat_Gain_Coefficient = \"=$SHGC\"\n",
    "# glazing.Visible_Transmittance = \"=$Tvis\""
   ]
  },
  {
   "cell_type": "code",
   "execution_count": null,
   "metadata": {
    "collapsed": false
   },
   "outputs": [],
   "source": [
    "# glazing"
   ]
  },
  {
   "cell_type": "code",
   "execution_count": null,
   "metadata": {
    "collapsed": false
   },
   "outputs": [],
   "source": [
    "parametric1 = idf1.idfobjects['PARAMETRIC:SETVALUEFORRUN']\n",
    "print parametric1"
   ]
  },
  {
   "cell_type": "code",
   "execution_count": null,
   "metadata": {
    "collapsed": true
   },
   "outputs": [],
   "source": [
    "IDF.setiddname(\"Energy+V7_2_0.idd\")\n",
    "idf2 = IDF(\"EP_Parametric.idf\")"
   ]
  },
  {
   "cell_type": "code",
   "execution_count": null,
   "metadata": {
    "collapsed": true
   },
   "outputs": [],
   "source": [
    "parametric2 = idf2.idfobjects['PARAMETRIC:SETVALUEFORRUN']"
   ]
  },
  {
   "cell_type": "code",
   "execution_count": null,
   "metadata": {
    "collapsed": false
   },
   "outputs": [],
   "source": [
    "parametric2"
   ]
  },
  {
   "cell_type": "code",
   "execution_count": null,
   "metadata": {
    "collapsed": true
   },
   "outputs": [],
   "source": [
    "idf1.idfobjects['PARAMETRIC:SETVALUEFORRUN'] = parametric2"
   ]
  },
  {
   "cell_type": "code",
   "execution_count": null,
   "metadata": {
    "collapsed": false
   },
   "outputs": [],
   "source": [
    "idf1.idfobjects['PARAMETRIC:SETVALUEFORRUN']"
   ]
  },
  {
   "cell_type": "code",
   "execution_count": null,
   "metadata": {
    "collapsed": true
   },
   "outputs": [],
   "source": [
    "idf1.save()"
   ]
  },
  {
   "cell_type": "code",
   "execution_count": null,
   "metadata": {
    "collapsed": true
   },
   "outputs": [],
   "source": [
    "idf1.saveas('Baseline_Parametric.idf')"
   ]
  }
 ],
 "metadata": {
  "anaconda-cloud": {},
  "kernelspec": {
   "display_name": "Python [default]",
   "language": "python",
   "name": "python2"
  },
  "language_info": {
   "codemirror_mode": {
    "name": "ipython",
    "version": 2
   },
   "file_extension": ".py",
   "mimetype": "text/x-python",
   "name": "python",
   "nbconvert_exporter": "python",
   "pygments_lexer": "ipython2",
   "version": "2.7.12"
  }
 },
 "nbformat": 4,
 "nbformat_minor": 1
}
