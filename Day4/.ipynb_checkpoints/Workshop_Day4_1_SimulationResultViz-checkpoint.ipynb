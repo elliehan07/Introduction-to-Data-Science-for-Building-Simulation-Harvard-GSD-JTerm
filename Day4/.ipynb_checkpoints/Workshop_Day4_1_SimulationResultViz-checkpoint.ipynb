{
 "cells": [
  {
   "cell_type": "markdown",
   "metadata": {},
   "source": [
    "### J-Term 2017, Harvard GSD :\n",
    "### Introduction to Data Science for Building Simulation\n",
    "***\n",
    "Instructor: Jung Min Han, elliehan07@gmail.com <br>\n",
    "Teaching Assistant: NJ Namju Lee, nj.namju@gmail.com <br>\n",
    "Date/Time: Jan 9-12/ 1:00 - 3:00 p.m. <br>\n",
    "Location: 20 Sumner/Room 1-D<br>\n",
    "***"
   ]
  },
  {
   "cell_type": "code",
   "execution_count": 297,
   "metadata": {
    "collapsed": true
   },
   "outputs": [],
   "source": [
    "import pandas as pd\n",
    "import datetime\n",
    "from datetime import timedelta\n",
    "import time\n",
    "import matplotlib\n",
    "import matplotlib.pyplot as plt\n",
    "%matplotlib inline"
   ]
  },
  {
   "cell_type": "markdown",
   "metadata": {},
   "source": [
    "# Single File"
   ]
  },
  {
   "cell_type": "code",
   "execution_count": 299,
   "metadata": {
    "collapsed": false
   },
   "outputs": [],
   "source": [
    "Result = pd.read_csv('data/EnergyplusSimulationData.csv')"
   ]
  },
  {
   "cell_type": "code",
   "execution_count": 300,
   "metadata": {
    "collapsed": false,
    "scrolled": true
   },
   "outputs": [],
   "source": [
    "# print Result.head()\n",
    "# print Result.shape"
   ]
  },
  {
   "cell_type": "code",
   "execution_count": 301,
   "metadata": {
    "collapsed": false
   },
   "outputs": [
    {
     "data": {
      "text/plain": [
       "array(['Date/Time', 'Environment:Outdoor Dry Bulb [C](Hourly)',\n",
       "       'ZONE_05_S:Zone Mean Air Temperature [C](Hourly)',\n",
       "       'ZONE_03_N:Zone Mean Air Temperature [C](Hourly)',\n",
       "       'ZONE_U1_S:Zone Mean Air Temperature [C](Hourly)',\n",
       "       'ZONE_01_S:Zone Mean Air Temperature [C](Hourly)',\n",
       "       'ZONE_U1_W:Zone Mean Air Temperature [C](Hourly)',\n",
       "       'ZONE_02_E:Zone Mean Air Temperature [C](Hourly)',\n",
       "       'ZONE_00_E:Zone Mean Air Temperature [C](Hourly)',\n",
       "       'ZONE_04_E:Zone Mean Air Temperature [C](Hourly)',\n",
       "       'ZONE_U1_LA:Zone Mean Air Temperature [C](Hourly)',\n",
       "       'ZONE_02_N:Zone Mean Air Temperature [C](Hourly)',\n",
       "       'ZONE_05_N:Zone Mean Air Temperature [C](Hourly)',\n",
       "       'ZONE_01_N:Zone Mean Air Temperature [C](Hourly)',\n",
       "       'ZONE_04_S:Zone Mean Air Temperature [C](Hourly)',\n",
       "       'ZONE_04_ST:Zone Mean Air Temperature [C](Hourly)',\n",
       "       'ZONE_02_NW:Zone Mean Air Temperature [C](Hourly)',\n",
       "       'ZONE_03_S:Zone Mean Air Temperature [C](Hourly)',\n",
       "       'ZONE_U1_ST:Zone Mean Air Temperature [C](Hourly)',\n",
       "       'ZONE_01_NW:Zone Mean Air Temperature [C](Hourly)'], dtype=object)"
      ]
     },
     "execution_count": 301,
     "metadata": {},
     "output_type": "execute_result"
    }
   ],
   "source": [
    "# Getting Data Information \n",
    "Result.columns.values[:20]"
   ]
  },
  {
   "cell_type": "code",
   "execution_count": 302,
   "metadata": {
    "collapsed": false
   },
   "outputs": [
    {
     "data": {
      "text/plain": [
       "1771     03/15  20:00:00\n",
       "1772     03/15  21:00:00\n",
       "1773     03/15  22:00:00\n",
       "1774     03/15  23:00:00\n",
       "1775     03/15  24:00:00\n",
       "Name: Date/Time, dtype: object"
      ]
     },
     "execution_count": 302,
     "metadata": {},
     "output_type": "execute_result"
    }
   ],
   "source": [
    "Result['Date/Time'].tail()"
   ]
  },
  {
   "cell_type": "markdown",
   "metadata": {},
   "source": [
    "# Index : order of time "
   ]
  },
  {
   "cell_type": "code",
   "execution_count": 303,
   "metadata": {
    "collapsed": true
   },
   "outputs": [],
   "source": [
    "#Created by Clayton Miller (miller.clayton@arch.ethz.ch)\n",
    "#Function to convert timestamps\n",
    "\n",
    "def eplustimestamp(simdata):\n",
    "    timestampdict={}\n",
    "    for i,row in simdata.T.iteritems():\n",
    "        timestamp = str(2013) + row['Date/Time']\n",
    "        try:\n",
    "            timestampdict[i] = datetime.datetime.strptime(timestamp,'%Y %m/%d  %H:%M:%S')\n",
    "        except ValueError:\n",
    "            tempts = timestamp.replace(' 24', ' 23')\n",
    "            timestampdict[i] = datetime.datetime.strptime(tempts,'%Y %m/%d  %H:%M:%S')\n",
    "            timestampdict[i] += timedelta(hours=1)\n",
    "    timestampseries = pd.Series(timestampdict)\n",
    "    return timestampseries"
   ]
  },
  {
   "cell_type": "code",
   "execution_count": 304,
   "metadata": {
    "collapsed": false
   },
   "outputs": [],
   "source": [
    "Result.index = eplustimestamp(Result)"
   ]
  },
  {
   "cell_type": "code",
   "execution_count": 305,
   "metadata": {
    "collapsed": false
   },
   "outputs": [
    {
     "data": {
      "text/plain": [
       "2013-03-15 20:00:00     03/15  20:00:00\n",
       "2013-03-15 21:00:00     03/15  21:00:00\n",
       "2013-03-15 22:00:00     03/15  22:00:00\n",
       "2013-03-15 23:00:00     03/15  23:00:00\n",
       "2013-03-16 00:00:00     03/15  24:00:00\n",
       "Name: Date/Time, dtype: object"
      ]
     },
     "execution_count": 305,
     "metadata": {},
     "output_type": "execute_result"
    }
   ],
   "source": [
    "Result['Date/Time'].tail()"
   ]
  },
  {
   "cell_type": "markdown",
   "metadata": {},
   "source": [
    "# Column selection "
   ]
  },
  {
   "cell_type": "code",
   "execution_count": 306,
   "metadata": {
    "collapsed": false
   },
   "outputs": [],
   "source": [
    "ColumnsList = pd.Series(Result.columns)\n",
    "# print ColumnsList.head()\n",
    "# print ColumnsList.head(10)\n",
    "# print ColumnsList.head(50)"
   ]
  },
  {
   "cell_type": "code",
   "execution_count": 307,
   "metadata": {
    "collapsed": false
   },
   "outputs": [],
   "source": [
    "# ColumnsList.str.endswith(\"Zone Mean Air Temperature [C](Hourly)\")[:50]"
   ]
  },
  {
   "cell_type": "code",
   "execution_count": 308,
   "metadata": {
    "collapsed": false
   },
   "outputs": [],
   "source": [
    "# ColumnsList[(ColumnsList.str.endswith(\"Zone Mean Air Temperature [C](Hourly)\"))]"
   ]
  },
  {
   "cell_type": "code",
   "execution_count": 309,
   "metadata": {
    "collapsed": false
   },
   "outputs": [],
   "source": [
    "ZoneTempPointList = list(ColumnsList[(ColumnsList.str.endswith(\"Zone Mean Air Temperature [C](Hourly)\"))])\n",
    "# print ZoneTempPointList"
   ]
  },
  {
   "cell_type": "code",
   "execution_count": null,
   "metadata": {
    "collapsed": false
   },
   "outputs": [],
   "source": [
    "# (ColumnsList.str.endswith(\"Zone Mean Air Temperature [C](Hourly)\"))&(ColumnsList.str.contains(\"U1\"))"
   ]
  },
  {
   "cell_type": "code",
   "execution_count": null,
   "metadata": {
    "collapsed": false
   },
   "outputs": [],
   "source": [
    "ColumnsList[(ColumnsList.str.endswith(\"Zone Mean Air Temperature [C](Hourly)\"))&(ColumnsList.str.contains(\"U1\"))]"
   ]
  },
  {
   "cell_type": "code",
   "execution_count": null,
   "metadata": {
    "collapsed": true
   },
   "outputs": [],
   "source": [
    "BasementZoneTemp = list(ColumnsList[(ColumnsList.str.endswith(\"Zone Mean Air Temperature [C](Hourly)\"))&(ColumnsList.str.contains(\"U1\"))])\n",
    "GroundFloorZoneTemp = list(ColumnsList[(ColumnsList.str.endswith(\"Zone Mean Air Temperature [C](Hourly)\"))&(ColumnsList.str.contains(\"00\"))])\n",
    "Floor1ZoneTemp = list(ColumnsList[(ColumnsList.str.endswith(\"Zone Mean Air Temperature [C](Hourly)\"))&(ColumnsList.str.contains(\"01\"))])\n",
    "Floor2ZoneTemp = list(ColumnsList[(ColumnsList.str.endswith(\"Zone Mean Air Temperature [C](Hourly)\"))&(ColumnsList.str.contains(\"02\"))])\n",
    "Floor3ZoneTemp = list(ColumnsList[(ColumnsList.str.endswith(\"Zone Mean Air Temperature [C](Hourly)\"))&(ColumnsList.str.contains(\"03\"))])\n",
    "Floor4ZoneTemp = list(ColumnsList[(ColumnsList.str.endswith(\"Zone Mean Air Temperature [C](Hourly)\"))&(ColumnsList.str.contains(\"04\"))])"
   ]
  },
  {
   "cell_type": "code",
   "execution_count": null,
   "metadata": {
    "collapsed": false
   },
   "outputs": [],
   "source": [
    "# BasementZoneTemp"
   ]
  },
  {
   "cell_type": "code",
   "execution_count": null,
   "metadata": {
    "collapsed": false
   },
   "outputs": [],
   "source": [
    "# GroundFloorZoneTemp"
   ]
  },
  {
   "cell_type": "code",
   "execution_count": null,
   "metadata": {
    "collapsed": false
   },
   "outputs": [],
   "source": [
    "# Floor1ZoneTemp"
   ]
  },
  {
   "cell_type": "code",
   "execution_count": null,
   "metadata": {
    "collapsed": false
   },
   "outputs": [],
   "source": [
    "ZoneTemp = Result[ZoneTempPointList]#.drop(['EMS:All Zones Total Heating Energy {J}(Hourly)'],axis=1)"
   ]
  },
  {
   "cell_type": "markdown",
   "metadata": {},
   "source": [
    "# Visualization"
   ]
  },
  {
   "cell_type": "code",
   "execution_count": null,
   "metadata": {
    "collapsed": false
   },
   "outputs": [],
   "source": [
    "# ZoneTemp.plot(figsize=(50,25))"
   ]
  },
  {
   "cell_type": "code",
   "execution_count": null,
   "metadata": {
    "collapsed": false
   },
   "outputs": [],
   "source": [
    "# ZoneTemp[BasementZoneTemp].plot(figsize=(20,10))\n",
    "\n",
    "# plt.title(\"Temperature per Zone\")\n",
    "# plt.xlabel('Time')\n",
    "# plt.ylabel(\"Temperature\")\n",
    "\n",
    "# plt.tight_layout()\n",
    "# plt.show()"
   ]
  },
  {
   "cell_type": "code",
   "execution_count": null,
   "metadata": {
    "collapsed": false
   },
   "outputs": [],
   "source": [
    "ZoneTemp[GroundFloorZoneTemp].plot(figsize=(20,10))\n",
    "\n",
    "plt.title(\"Temperature per Zone\")\n",
    "plt.xlabel('Time')\n",
    "plt.ylabel(\"Temperature\")\n",
    "\n",
    "# plt.axhline(18, color='r', label=r'True $\\beta_1$')\n",
    "# plt.axhline(24, color='r', label=r'True $\\beta_1$')\n",
    "# plt.axhspan(18, 24, facecolor='y', alpha=0.2,label=r'True $\\beta_1$')\n",
    "\n",
    "plt.tight_layout()\n",
    "plt.show()"
   ]
  },
  {
   "cell_type": "markdown",
   "metadata": {},
   "source": [
    "# Zooming"
   ]
  },
  {
   "cell_type": "code",
   "execution_count": null,
   "metadata": {
    "collapsed": false
   },
   "outputs": [],
   "source": [
    "ZoneTemp[Floor1ZoneTemp].plot(figsize=(20,10))\n",
    "\n",
    "plt.axhspan(18, 24, facecolor='y', alpha=0.2,label=r'True $\\beta_1$')\n",
    "\n",
    "plt.tight_layout()\n",
    "plt.show()"
   ]
  },
  {
   "cell_type": "code",
   "execution_count": null,
   "metadata": {
    "collapsed": true
   },
   "outputs": [],
   "source": [
    "# ZoneTemp[Floor2ZoneTemp].truncate(before='2013-02-01',after='2013-02-14')"
   ]
  },
  {
   "cell_type": "code",
   "execution_count": null,
   "metadata": {
    "collapsed": false
   },
   "outputs": [],
   "source": [
    "# ZoneTemp[Floor2ZoneTemp].truncate(before='2013-02-01',after='2013-02-14').plot(figsize=(20,10))\n",
    "\n",
    "# plt.tight_layout()\n",
    "# plt.show()"
   ]
  },
  {
   "cell_type": "markdown",
   "metadata": {},
   "source": [
    "# Multiple Files"
   ]
  },
  {
   "cell_type": "code",
   "execution_count": null,
   "metadata": {
    "collapsed": false
   },
   "outputs": [],
   "source": [
    "from os import walk\n",
    "import numpy as np\n",
    "\n",
    "mypath = 'data'\n",
    "f = []\n",
    "for (dirpath, dirnames, filenames) in walk(mypath):\n",
    "    f.extend(filenames)\n",
    "    break\n",
    "    \n",
    "print f  \n",
    "f = f[1:]\n",
    "print f"
   ]
  },
  {
   "cell_type": "code",
   "execution_count": null,
   "metadata": {
    "collapsed": true
   },
   "outputs": [],
   "source": [
    "dfs = []\n",
    "for i in f:\n",
    "    fn = mypath + '/' + i\n",
    "    dfs.append(pd.read_csv(fn))"
   ]
  },
  {
   "cell_type": "code",
   "execution_count": null,
   "metadata": {
    "collapsed": false
   },
   "outputs": [],
   "source": [
    "# len(dfs)"
   ]
  },
  {
   "cell_type": "code",
   "execution_count": null,
   "metadata": {
    "collapsed": false
   },
   "outputs": [],
   "source": [
    "# dfs[0]"
   ]
  },
  {
   "cell_type": "code",
   "execution_count": null,
   "metadata": {
    "collapsed": false
   },
   "outputs": [],
   "source": [
    "dfsNames=dfs[0].columns.values[1:]"
   ]
  },
  {
   "cell_type": "code",
   "execution_count": null,
   "metadata": {
    "collapsed": false
   },
   "outputs": [],
   "source": [
    "def VisBarPlotByAX(ax, xData, width=0.5, offset=0, color = \"purple\", title = 'title', YLable=\"YLable\" , path=\"\", axLine1 = 0, axLine2 = 0,label='Heating' ):\n",
    "    if(offset !=0):\n",
    "        yTime = [i+offset for i in range(0,len(xData))]     \n",
    "    else:\n",
    "        yTime = [i for i in range(0,len(xData))]\n",
    "\n",
    "    ax.bar(yTime,xData,width=width, alpha=0.2, color=color,label=label)\n",
    "    ax.set_title(title)\n",
    "    ax.set_xlabel('Year')\n",
    "    ax.set_ylabel(YLable)\n",
    "    ax.legend(loc='best')\n",
    "    if(axLine1 != 0 and axLine2 != 0 ):\n",
    "        ax.set_axhline(axLine1, color='r', label=r'True $\\beta_1$')\n",
    "        ax.set_axhline(axLine2, color='r', label=r'True $\\beta_1$')\n",
    "        ax.set_axhspan(axLine1, axLine2, facecolor='0.5', alpha=0.5,label=r'True $\\beta_1$')"
   ]
  },
  {
   "cell_type": "code",
   "execution_count": null,
   "metadata": {
    "collapsed": false,
    "scrolled": false
   },
   "outputs": [],
   "source": [
    "bar = dfs[0]\n",
    "bar1 = bar['Heating:DistrictHeating [J](Monthly)']\n",
    "bar2 = bar['Cooling:DistrictCooling [J](Monthly) ']\n",
    "\n",
    "ind=np.arange(12)\n",
    "width =0.35\n",
    "\n",
    "path = \"barChartPlot\"\n",
    "fig = plt.figure(figsize=(15, 8))\n",
    "ax = fig.add_subplot(1, 1, 1)\n",
    "\n",
    "VisBarPlotByAX(ax, bar1, width = 0.3, color=\"red\", YLable=\"Electricity\",label='Heating')\n",
    "VisBarPlotByAX(ax, bar2, width=0.3,offset=0.3, color=\"blue\", YLable=\"Electricity\",label='Cooling')\n",
    "\n",
    "\n",
    "plt.savefig(path)\n",
    "plt.tight_layout()\n",
    "plt.show()"
   ]
  },
  {
   "cell_type": "code",
   "execution_count": null,
   "metadata": {
    "collapsed": true
   },
   "outputs": [],
   "source": [
    "def VisStackBarPlotByAX(ax, xData, width=0.5, bottom=\"\", color = \"purple\", title = 'title', YLable=\"YLable\" , path=\"\", axLine1 = 0, axLine2 = 0 ,label='Heating'):\n",
    "\n",
    "    yTime = [i for i in range(0,len(xData))]\n",
    "\n",
    "    try:\n",
    "        if(bottom == \"\"):\n",
    "            ax.bar(yTime,xData,width=width, alpha=0.2, color=color,label=label)\n",
    "    except:\n",
    "        ax.bar(yTime,xData, bottom=bottom, width=width, alpha=0.2, color=color,label=label)\n",
    "    ax.set_title(title)\n",
    "    ax.set_xlabel('Year')\n",
    "    ax.set_ylabel(YLable)\n",
    "    ax.legend(loc='best')\n",
    "    if(axLine1 != 0 and axLine2 != 0 ):\n",
    "        ax.set_axhline(axLine1, color='r', label=r'True $\\beta_1$')\n",
    "        ax.set_axhline(axLine2, color='r', label=r'True $\\beta_1$')\n",
    "        ax.set_axhspan(axLine1, axLine2, facecolor='0.5', alpha=0.5,label=r'True $\\beta_1$')"
   ]
  },
  {
   "cell_type": "code",
   "execution_count": null,
   "metadata": {
    "collapsed": false
   },
   "outputs": [],
   "source": [
    "# bar = dfs[0]\n",
    "# bar1 = bar['Heating:DistrictHeating [J](Monthly)']\n",
    "# bar2 = bar['Cooling:DistrictCooling [J](Monthly) ']\n",
    "\n",
    "# ind=np.arange(12)\n",
    "# width =0.35\n",
    "\n",
    "# path = \"barChartPlot\"\n",
    "# fig = plt.figure(figsize=(15, 8))\n",
    "# ax = fig.add_subplot(1, 1, 1)\n",
    "# theWidth = 0.5\n",
    "\n",
    "# VisStackBarPlotByAX(ax, bar1, width = theWidth, color=\"red\", YLable=\"Electricity\",label=\"heating\")\n",
    "# VisStackBarPlotByAX(ax, bar2, bottom=bar1, width=theWidth, color=\"blue\", YLable=\"Electricity\",label=\"cooling\")\n",
    "\n",
    "# plt.savefig(path)\n",
    "# plt.tight_layout()\n",
    "# plt.show()"
   ]
  },
  {
   "cell_type": "markdown",
   "metadata": {},
   "source": [
    "# Transpose DataFrame"
   ]
  },
  {
   "cell_type": "code",
   "execution_count": null,
   "metadata": {
    "collapsed": false
   },
   "outputs": [],
   "source": [
    "temp = dfs[0]\n",
    "my_temp = temp.T\n",
    "my_temp"
   ]
  },
  {
   "cell_type": "code",
   "execution_count": null,
   "metadata": {
    "collapsed": false
   },
   "outputs": [],
   "source": [
    "my_temp = my_temp.drop(\"Date/Time\",0)\n",
    "my_temp"
   ]
  },
  {
   "cell_type": "code",
   "execution_count": null,
   "metadata": {
    "collapsed": false
   },
   "outputs": [],
   "source": [
    "d1 = my_temp[0]\n",
    "print d1\n",
    "index = d1.index\n",
    "\n",
    "ytime = [1,2,3,4,5,6]\n",
    "labels = [\"Lighting\",\"Equipment\",\"Fans\",\"pumps\",\"Heating\",\"Cooling\"]\n",
    "explode = (0.1, 0.1, 0.2, 0.2,0.1,0.1) \n",
    "colors = ['yellowgreen', 'gold', 'lightskyblue', 'lightcoral',\"coral\",\"tan\"]\n",
    "\n",
    "\n",
    "plt.bar(ytime,list(d1),alpha=0.8, color=colors,)\n",
    "plt.xticks(ytime, labels)\n",
    "plt.plot()"
   ]
  },
  {
   "cell_type": "code",
   "execution_count": null,
   "metadata": {
    "collapsed": false
   },
   "outputs": [],
   "source": [
    "d1 = my_temp[0]\n",
    "print d1.index\n",
    "\n",
    "labels = [\"Lighting\",\"Equipment\",\"Fans\",\"pumps\",\"Heating\",\"Cooling\"]\n",
    "explode = (0.1, 0.1, 0.2, 0.2,0.1,0.1) \n",
    "colors = ['yellowgreen', 'gold', 'lightskyblue', 'lightcoral',\"coral\",\"tan\"]\n",
    "\n",
    "plt.pie(d1, explode=explode,labels=labels, colors=colors, autopct='%1.1f%%', shadow=True, startangle=90)\n",
    "\n",
    "plt.axis('equal')\n",
    "plt.show()"
   ]
  },
  {
   "cell_type": "code",
   "execution_count": null,
   "metadata": {
    "collapsed": false,
    "scrolled": false
   },
   "outputs": [],
   "source": [
    "# fig = plt.figure(figsize=(15, 8))\n",
    "# fig, axs = plt.subplots(len(dfs)/2, 2, figsize=(20, 40))\n",
    "# count =0;\n",
    "# for i in range(0,len(dfs)/2):\n",
    "#     for j in range(2):\n",
    "#         temp = dfs[count]\n",
    "#         my_temp = temp.T\n",
    "#         # print my_temp.drop(\"Date/Time\",0)\n",
    "#         my_temp=my_temp.drop(\"Date/Time\",0)\n",
    "#         d1 = my_temp[0]\n",
    "        \n",
    "# #         labels = d1.index\n",
    "#         explode = (0, 0.1, 0, 0,0,0) \n",
    "#         colors = ['yellowgreen', 'gold', 'lightskyblue', 'lightcoral',\"coral\",\"tan\"]\n",
    "#         axs[i][j].pie(d1, explode=explode,labels=labels, colors=colors, autopct='%1.1f%%', shadow=True, startangle=90)\n",
    "\n",
    "#         axs[i][j].set_aspect('equal')\n",
    "#         count+=1\n",
    "# plt.tight_layout()\n",
    "# plt.show()"
   ]
  },
  {
   "cell_type": "code",
   "execution_count": null,
   "metadata": {
    "collapsed": true
   },
   "outputs": [],
   "source": []
  }
 ],
 "metadata": {
  "anaconda-cloud": {},
  "kernelspec": {
   "display_name": "Python [default]",
   "language": "python",
   "name": "python2"
  },
  "language_info": {
   "codemirror_mode": {
    "name": "ipython",
    "version": 2
   },
   "file_extension": ".py",
   "mimetype": "text/x-python",
   "name": "python",
   "nbconvert_exporter": "python",
   "pygments_lexer": "ipython2",
   "version": "2.7.12"
  }
 },
 "nbformat": 4,
 "nbformat_minor": 1
}
