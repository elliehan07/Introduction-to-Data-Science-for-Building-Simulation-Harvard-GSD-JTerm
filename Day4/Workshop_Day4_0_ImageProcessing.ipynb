{
 "cells": [
  {
   "cell_type": "code",
   "execution_count": 8,
   "metadata": {
    "collapsed": true
   },
   "outputs": [],
   "source": [
    "import cv2\n",
    "import numpy as np\n",
    "import argparse\n",
    "import matplotlib\n",
    "import matplotlib.pyplot as plt\n",
    "%matplotlib inline"
   ]
  },
  {
   "cell_type": "code",
   "execution_count": 13,
   "metadata": {
    "collapsed": true
   },
   "outputs": [],
   "source": [
    "# define the list of boundaries\n",
    "##[min(B,G,R),max(B,G,R)]\n",
    "boundaries = [\n",
    "    ([0, 0, 150], [165, 165, 255]),\n",
    "    ([0, 0, 30], [230, 190, 150]),\n",
    "    ([155, 0, 0], [255, 255, 255])\n",
    "]"
   ]
  },
  {
   "cell_type": "code",
   "execution_count": 16,
   "metadata": {
    "collapsed": false
   },
   "outputs": [
    {
     "name": "stdout",
     "output_type": "stream",
     "text": [
      "101010\n",
      "101010\n",
      "101010\n"
     ]
    }
   ],
   "source": [
    "# import the necessary packages\n",
    "import numpy as np\n",
    "import argparse\n",
    "import cv2\n",
    "\n",
    "# path = 'Z:/Dropbox/1_Jungmin&NJ/[DataScience_JTerm]/[release]/Day4/image2.jpg'\n",
    "path = \"C:/Users/EllieHan/Dropbox/1_Jungmin&NJ/[DataScience_JTerm]/[release]/Day4/image2.jpg\"\n",
    "image = cv2.imread(path)\n",
    "# print image\n",
    "\n",
    "# define the list of boundaries\n",
    "# loop over the boundaries\n",
    "count =0\n",
    "for (lower, upper) in boundaries:\n",
    "    # create NumPy arrays from the boundaries\n",
    "    lower = np.array(lower, dtype = \"uint8\")\n",
    "    upper = np.array(upper, dtype = \"uint8\")\n",
    "\n",
    "    # find the colors within the specified boundaries and apply\n",
    "    # the mask\n",
    "    mask = cv2.inRange(image, lower, upper)\n",
    "    output = cv2.bitwise_and(image, image, mask = mask)\n",
    "\n",
    "#     # show the images\n",
    "    result = np.hstack([image, output])\n",
    "    total = result.shape[0] * result.shape[1]\n",
    "    print total\n",
    "#     dd = result.flat()\n",
    "\n",
    "#     result = cv2.cvtColor(result, cv2.COLOR_BGR2RGB)\n",
    "    result = result[:,result.shape[1]/2:]\n",
    "#     plt.imshow(result)\n",
    "    cv2.imshow(\"image\", result)\n",
    "    cv2.imwrite(\"image\"+str(count)+\".png\", result)\n",
    "#     cv2.imwrite()\n",
    "    cv2.waitKey(0)\n",
    "    count+=1"
   ]
  },
  {
   "cell_type": "code",
   "execution_count": null,
   "metadata": {
    "collapsed": true
   },
   "outputs": [],
   "source": []
  }
 ],
 "metadata": {
  "anaconda-cloud": {},
  "kernelspec": {
   "display_name": "Python 2",
   "language": "python",
   "name": "python2"
  },
  "language_info": {
   "codemirror_mode": {
    "name": "ipython",
    "version": 2
   },
   "file_extension": ".py",
   "mimetype": "text/x-python",
   "name": "python",
   "nbconvert_exporter": "python",
   "pygments_lexer": "ipython2",
   "version": "2.7.11"
  }
 },
 "nbformat": 4,
 "nbformat_minor": 1
}
